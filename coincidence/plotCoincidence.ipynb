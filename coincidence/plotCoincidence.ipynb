{
 "cells": [
  {
   "cell_type": "markdown",
   "metadata": {
    "deletable": true,
    "editable": true
   },
   "source": [
    "# This is a Jupyter notebook for cluster coincidence study\n",
    "\n",
    "The output root file is produced by a coincidence analyzer looping over MultiCoincidenceArtRecordCollection."
   ]
  },
  {
   "cell_type": "code",
   "execution_count": 1,
   "metadata": {
    "collapsed": false,
    "deletable": true,
    "editable": true
   },
   "outputs": [
    {
     "data": {
      "application/javascript": [
       "\n",
       "require(['notebook'],\n",
       "  function() {\n",
       "    IPython.CodeCell.config_defaults.highlight_modes['magic_text/x-c++src'] = {'reg':[/^%%cpp/]};\n",
       "    console.log(\"JupyROOT - %%cpp magic configured\");\n",
       "  }\n",
       ");\n"
      ]
     },
     "metadata": {},
     "output_type": "display_data"
    },
    {
     "name": "stdout",
     "output_type": "stream",
     "text": [
      "Welcome to JupyROOT 6.08/04\n"
     ]
    }
   ],
   "source": [
    "import ROOT\n",
    "file = ROOT.TFile('coincidenceAnalyzer.root');\n",
    "c = ROOT.TCanvas(\"c\",\"c\",800,600)\n",
    "leg = ROOT.TLegend(0.6,0.55,0.85,0.85)"
   ]
  },
  {
   "cell_type": "markdown",
   "metadata": {
    "deletable": true,
    "editable": true
   },
   "source": [
    "## 1. Get histograms for different dcalo (from 0 to 6 here, 0 is self-coincidence or pileup)"
   ]
  },
  {
   "cell_type": "code",
   "execution_count": 2,
   "metadata": {
    "collapsed": true,
    "deletable": true,
    "editable": true
   },
   "outputs": [],
   "source": [
    "dtdcalo0 = file.Get(\"coincidenceAnalyzer/dtdcalo0\")\n",
    "dtdcalo1 = file.Get(\"coincidenceAnalyzer/dtdcalo1\")\n",
    "dtdcalo2 = file.Get(\"coincidenceAnalyzer/dtdcalo2\")\n",
    "dtdcalo3 = file.Get(\"coincidenceAnalyzer/dtdcalo3\")\n",
    "dtdcalo4 = file.Get(\"coincidenceAnalyzer/dtdcalo4\")\n",
    "dtdcalo5 = file.Get(\"coincidenceAnalyzer/dtdcalo5\")\n",
    "dtdcalo6 = file.Get(\"coincidenceAnalyzer/dtdcalo6\")"
   ]
  },
  {
   "cell_type": "markdown",
   "metadata": {
    "collapsed": true,
    "deletable": true,
    "editable": true
   },
   "source": [
    "## 2. Set different line colors for better visualization"
   ]
  },
  {
   "cell_type": "code",
   "execution_count": 3,
   "metadata": {
    "collapsed": false,
    "deletable": true,
    "editable": true
   },
   "outputs": [],
   "source": [
    "def set_colors():\n",
    "    dtdcalo0.SetLineColor(1)\n",
    "    dtdcalo1.SetLineColor(2)\n",
    "    dtdcalo2.SetLineColor(3)\n",
    "    dtdcalo3.SetLineColor(4)\n",
    "    dtdcalo4.SetLineColor(6)\n",
    "    dtdcalo5.SetLineColor(7)\n",
    "    dtdcalo6.SetLineColor(8)"
   ]
  },
  {
   "cell_type": "markdown",
   "metadata": {},
   "source": [
    "## 3. Draw legend"
   ]
  },
  {
   "cell_type": "code",
   "execution_count": 4,
   "metadata": {
    "collapsed": true,
    "deletable": true,
    "editable": true
   },
   "outputs": [],
   "source": [
    "def draw_legend():\n",
    "    leg.Clear()\n",
    "    leg.AddEntry(dtdcalo0,dtdcalo0.GetName(),\"l\")\n",
    "    leg.AddEntry(dtdcalo1,dtdcalo1.GetName(),\"l\")\n",
    "    leg.AddEntry(dtdcalo2,dtdcalo2.GetName(),\"l\")\n",
    "    leg.AddEntry(dtdcalo3,dtdcalo3.GetName(),\"l\")\n",
    "    leg.AddEntry(dtdcalo4,dtdcalo4.GetName(),\"l\")\n",
    "    leg.AddEntry(dtdcalo5,dtdcalo5.GetName(),\"l\")\n",
    "    leg.AddEntry(dtdcalo6,dtdcalo6.GetName(),\"l\")\n",
    "    leg.SetBorderSize(0)\n",
    "    leg.Draw()"
   ]
  },
  {
   "cell_type": "markdown",
   "metadata": {},
   "source": [
    "## 4. Draw histograms"
   ]
  },
  {
   "cell_type": "code",
   "execution_count": 5,
   "metadata": {
    "collapsed": false,
    "deletable": true,
    "editable": true
   },
   "outputs": [],
   "source": [
    "def draw_hists():\n",
    "    ROOT.gStyle.SetOptStat(0)\n",
    "    c.SetLogy()\n",
    "    dtdcalo0.Draw()\n",
    "    dtdcalo1.Draw(\"same\")\n",
    "    dtdcalo2.Draw(\"same\")\n",
    "    dtdcalo3.Draw(\"same\")\n",
    "    dtdcalo4.Draw(\"same\")\n",
    "    dtdcalo5.Draw(\"same\")\n",
    "    dtdcalo6.Draw(\"same\")\n",
    "    c.Draw()"
   ]
  },
  {
   "cell_type": "markdown",
   "metadata": {},
   "source": [
    "## 5. Everything together"
   ]
  },
  {
   "cell_type": "code",
   "execution_count": 6,
   "metadata": {
    "collapsed": false,
    "deletable": true,
    "editable": true
   },
   "outputs": [
    {
     "data": {
      "image/png": "[encoded data removed]",
      "text/plain": [
       "<IPython.core.display.Image object>"
      ]
     },
     "metadata": {},
     "output_type": "display_data"
    }
   ],
   "source": [
    "set_colors()\n",
    "draw_hists()\n",
    "draw_legend()"
   ]
  },
  {
   "cell_type": "code",
   "execution_count": null,
   "metadata": {
    "collapsed": true,
    "deletable": true,
    "editable": true
   },
   "outputs": [],
   "source": []
  }
 ],
 "metadata": {
  "kernelspec": {
   "display_name": "Python 2",
   "language": "python",
   "name": "python2"
  },
  "language_info": {
   "codemirror_mode": {
    "name": "ipython",
    "version": 2
   },
   "file_extension": ".py",
   "mimetype": "text/x-python",
   "name": "python",
   "nbconvert_exporter": "python",
   "pygments_lexer": "ipython2",
   "version": "2.7.13"
  }
 },
 "nbformat": 4,
 "nbformat_minor": 2
}
