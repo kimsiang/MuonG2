{
 "cells": [
  {
   "cell_type": "markdown",
   "metadata": {
    "deletable": true,
    "editable": true
   },
   "source": [
    "# This is a Jupyter notebook for cluster coincidence study\n",
    "\n",
    "The output root file is produced by a coincidence analyzer looping over MultiCoincidenceArtRecordCollection."
   ]
  },
  {
   "cell_type": "code",
   "execution_count": 1,
   "metadata": {
    "collapsed": false,
    "deletable": true,
    "editable": true
   },
   "outputs": [
    {
     "data": {
      "application/javascript": [
       "\n",
       "require(['notebook'],\n",
       "  function() {\n",
       "    IPython.CodeCell.config_defaults.highlight_modes['magic_text/x-c++src'] = {'reg':[/^%%cpp/]};\n",
       "    console.log(\"JupyROOT - %%cpp magic configured\");\n",
       "  }\n",
       ");\n"
      ]
     },
     "metadata": {},
     "output_type": "display_data"
    },
    {
     "name": "stdout",
     "output_type": "stream",
     "text": [
      "Welcome to JupyROOT 6.08/04\n"
     ]
    }
   ],
   "source": [
    "import ROOT\n",
    "file1 = ROOT.TFile('coincidenceAnalyzer.root'); ## gas gun\n",
    "file2 = ROOT.TFile('coincidenceAnalyzer_migun.root'); ## injection gun\n",
    "c = ROOT.TCanvas(\"c\",\"c\",800,600)\n",
    "leg = ROOT.TLegend(0.62,0.6,0.88,0.88)"
   ]
  },
  {
   "cell_type": "markdown",
   "metadata": {
    "deletable": true,
    "editable": true
   },
   "source": [
    "## 1. Get histograms for different dcalo (from 0 to 6 here, 0 is self-coincidence or pileup)"
   ]
  },
  {
   "cell_type": "code",
   "execution_count": 2,
   "metadata": {
    "collapsed": true,
    "deletable": true,
    "editable": true
   },
   "outputs": [],
   "source": [
    "dtdcalo1_gas = file1.Get(\"coincidenceAnalyzer/dtdcalo1\")\n",
    "dtdcalo1_inj = file2.Get(\"coincidenceAnalyzer/dtdcalo1\")"
   ]
  },
  {
   "cell_type": "markdown",
   "metadata": {
    "collapsed": true,
    "deletable": true,
    "editable": true
   },
   "source": [
    "## 2. Set different line colors for better visualization"
   ]
  },
  {
   "cell_type": "code",
   "execution_count": 3,
   "metadata": {
    "collapsed": false,
    "deletable": true,
    "editable": true
   },
   "outputs": [],
   "source": [
    "def set_colors():\n",
    "    dtdcalo1_gas.SetLineColor(1)\n",
    "    dtdcalo1_gas.SetLineWidth(2)\n",
    "    dtdcalo1_inj.SetLineColor(2)\n",
    "    dtdcalo1_inj.SetLineWidth(2)"
   ]
  },
  {
   "cell_type": "markdown",
   "metadata": {
    "deletable": true,
    "editable": true
   },
   "source": [
    "## 3. Draw legend"
   ]
  },
  {
   "cell_type": "code",
   "execution_count": 4,
   "metadata": {
    "collapsed": true,
    "deletable": true,
    "editable": true
   },
   "outputs": [],
   "source": [
    "def draw_legend():\n",
    "    leg.Clear()\n",
    "    leg.AddEntry(dtdcalo1_gas,\"gas gun\",\"l\")\n",
    "    leg.AddEntry(dtdcalo1_inj,\"injection gun\",\"l\")\n",
    "    leg.SetBorderSize(0)\n",
    "    leg.Draw()"
   ]
  },
  {
   "cell_type": "markdown",
   "metadata": {
    "deletable": true,
    "editable": true
   },
   "source": [
    "## 4. Draw histograms"
   ]
  },
  {
   "cell_type": "code",
   "execution_count": 5,
   "metadata": {
    "collapsed": false,
    "deletable": true,
    "editable": true
   },
   "outputs": [],
   "source": [
    "def draw_hists():\n",
    "    ROOT.gStyle.SetOptStat(0)\n",
    "    c.SetLogy()\n",
    "    dtdcalo1_gas.Draw(\"hist\")\n",
    "    dtdcalo1_inj.Draw(\"hist same\")\n",
    "    c.Draw()"
   ]
  },
  {
   "cell_type": "markdown",
   "metadata": {},
   "source": [
    "## 5. Normalized by the area"
   ]
  },
  {
   "cell_type": "code",
   "execution_count": 6,
   "metadata": {
    "collapsed": true
   },
   "outputs": [],
   "source": [
    "def normalize():\n",
    "    dtdcalo1_gas.Scale(1./dtdcalo1_gas.GetEntries())\n",
    "    dtdcalo1_inj.Scale(1./dtdcalo1_inj.GetEntries())"
   ]
  },
  {
   "cell_type": "markdown",
   "metadata": {
    "deletable": true,
    "editable": true
   },
   "source": [
    "## 6. Everything together"
   ]
  },
  {
   "cell_type": "code",
   "execution_count": 7,
   "metadata": {
    "collapsed": false,
    "deletable": true,
    "editable": true
   },
   "outputs": [
    {
     "data": {
      "image/png": "[encoded data removed]",
      "text/plain": [
       "<IPython.core.display.Image object>"
      ]
     },
     "metadata": {},
     "output_type": "display_data"
    }
   ],
   "source": [
    "set_colors()\n",
    "normalize()\n",
    "draw_hists()\n",
    "draw_legend()"
   ]
  },
  {
   "cell_type": "code",
   "execution_count": null,
   "metadata": {
    "collapsed": true,
    "deletable": true,
    "editable": true
   },
   "outputs": [],
   "source": []
  }
 ],
 "metadata": {
  "kernelspec": {
   "display_name": "Python 2",
   "language": "python",
   "name": "python2"
  },
  "language_info": {
   "codemirror_mode": {
    "name": "ipython",
    "version": 2
   },
   "file_extension": ".py",
   "mimetype": "text/x-python",
   "name": "python",
   "nbconvert_exporter": "python",
   "pygments_lexer": "ipython2",
   "version": "2.7.13"
  }
 },
 "nbformat": 4,
 "nbformat_minor": 2
}
