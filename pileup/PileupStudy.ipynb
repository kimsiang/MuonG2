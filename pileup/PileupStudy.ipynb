{
 "cells": [
  {
   "cell_type": "markdown",
   "metadata": {
    "deletable": true,
    "editable": true
   },
   "source": [
    "# A notebook for pileup study"
   ]
  },
  {
   "cell_type": "code",
   "execution_count": 1,
   "metadata": {
    "collapsed": false,
    "deletable": true,
    "editable": true
   },
   "outputs": [
    {
     "data": {
      "application/javascript": [
       "\n",
       "require(['notebook'],\n",
       "  function() {\n",
       "    IPython.CodeCell.config_defaults.highlight_modes['magic_text/x-c++src'] = {'reg':[/^%%cpp/]};\n",
       "    console.log(\"JupyROOT - %%cpp magic configured\");\n",
       "  }\n",
       ");\n"
      ]
     },
     "metadata": {},
     "output_type": "display_data"
    },
    {
     "name": "stdout",
     "output_type": "stream",
     "text": [
      "Welcome to JupyROOT 6.08/04\n"
     ]
    }
   ],
   "source": [
    "import ROOT\n",
    "f = ROOT.TFile('PileupAnalyzer.root')\n",
    "folder_name = 'pileupAnalyzer'\n",
    "c = ROOT.TCanvas('canv', 'canv', 600, 400)\n",
    "leg = ROOT.TLegend(0.7,0.7,0.9,0.9)\n",
    "ROOT.gStyle.SetOptStat(0)"
   ]
  },
  {
   "cell_type": "markdown",
   "metadata": {
    "deletable": true,
    "editable": true
   },
   "source": [
    "# 1. First part is for sanity check\n",
    "\n",
    "Here we are looking at the energy of the decay positron, energy of the gamma from radiative decay and the energy deposition. This file has 80,000 muon gas guns to exaggerate the pileup effect."
   ]
  },
  {
   "cell_type": "code",
   "execution_count": 2,
   "metadata": {
    "collapsed": false,
    "deletable": true,
    "editable": true
   },
   "outputs": [],
   "source": [
    "ePrimary = f.Get('{}/ePrimary'.format(folder_name))\n",
    "eGammaPrimary = f.Get('{}/eGammaPrimary'.format(folder_name))\n",
    "eDep = f.Get('{}/eDep'.format(folder_name))\n",
    "tree = f.Get('{}/tree'.format(folder_name))"
   ]
  },
  {
   "cell_type": "code",
   "execution_count": 3,
   "metadata": {
    "collapsed": false,
    "deletable": true,
    "editable": true
   },
   "outputs": [],
   "source": [
    "def draw_both():\n",
    "    eDep.Draw()\n",
    "    eGammaPrimary.Draw(\"sames\")\n",
    "    ePrimary.Draw(\"sames\")\n",
    "    c.SetLogy()\n",
    "    c.Draw()"
   ]
  },
  {
   "cell_type": "code",
   "execution_count": 4,
   "metadata": {
    "collapsed": true,
    "deletable": true,
    "editable": true
   },
   "outputs": [],
   "source": [
    "def set_style():\n",
    "    ePrimary.SetLineColor(1)\n",
    "    eGammaPrimary.SetLineColor(2)\n",
    "    eDep.SetLineColor(4)"
   ]
  },
  {
   "cell_type": "code",
   "execution_count": 5,
   "metadata": {
    "collapsed": true,
    "deletable": true,
    "editable": true
   },
   "outputs": [],
   "source": [
    "def draw_legend():\n",
    "    leg.AddEntry(ePrimary,ePrimary.GetName(),\"l\")\n",
    "    leg.AddEntry(eGammaPrimary,eGammaPrimary.GetName(),\"l\")\n",
    "    leg.AddEntry(eDep,eDep.GetName(),\"l\")\n",
    "    leg.Draw()"
   ]
  },
  {
   "cell_type": "code",
   "execution_count": 6,
   "metadata": {
    "collapsed": false,
    "deletable": true,
    "editable": true,
    "scrolled": false
   },
   "outputs": [
    {
     "data": {
      "image/png": "[encoded data removed]",
      "text/plain": [
       "<IPython.core.display.Image object>"
      ]
     },
     "metadata": {},
     "output_type": "display_data"
    }
   ],
   "source": [
    "set_style()\n",
    "draw_both()\n",
    "draw_legend()"
   ]
  },
  {
   "cell_type": "markdown",
   "metadata": {
    "deletable": true,
    "editable": true
   },
   "source": [
    "It is very interesting to see that the radiative gamma has an energy up to 1.7 GeV.\n",
    "\n",
    "Tired of looking at the ROOT plots, let's try another tool in python developed for data analysis: pandas."
   ]
  },
  {
   "cell_type": "markdown",
   "metadata": {
    "deletable": true,
    "editable": true
   },
   "source": [
    "# 2. Now let's try to use pandas to study pileup effect"
   ]
  },
  {
   "cell_type": "code",
   "execution_count": 7,
   "metadata": {
    "collapsed": false,
    "deletable": true,
    "editable": true,
    "scrolled": false
   },
   "outputs": [],
   "source": [
    "%matplotlib inline\n",
    "import seaborn as sns\n",
    "import numpy as np\n",
    "import pandas as pd\n",
    "import matplotlib.pyplot as plt\n",
    "plt.rcParams['figure.figsize'] = 8, 6 # sets default plot size"
   ]
  },
  {
   "cell_type": "markdown",
   "metadata": {
    "deletable": true,
    "editable": true
   },
   "source": [
    "## 2.1 Here we migrate our data from ROOT TTree to pandas's DataFrame."
   ]
  },
  {
   "cell_type": "code",
   "execution_count": 8,
   "metadata": {
    "collapsed": false,
    "deletable": true,
    "editable": true
   },
   "outputs": [
    {
     "data": {
      "text/html": [
       "<div>\n",
       "<table border=\"1\" class=\"dataframe\">\n",
       "  <thead>\n",
       "    <tr style=\"text-align: right;\">\n",
       "      <th></th>\n",
       "      <th>calo_num</th>\n",
       "      <th>time_truth</th>\n",
       "      <th>e_truth</th>\n",
       "      <th>time_hit</th>\n",
       "      <th>e_dep</th>\n",
       "    </tr>\n",
       "  </thead>\n",
       "  <tbody>\n",
       "    <tr>\n",
       "      <th>0</th>\n",
       "      <td>1</td>\n",
       "      <td>2597.835227</td>\n",
       "      <td>233.450529</td>\n",
       "      <td>2599.191650</td>\n",
       "      <td>220.973088</td>\n",
       "    </tr>\n",
       "    <tr>\n",
       "      <th>1</th>\n",
       "      <td>21</td>\n",
       "      <td>8286.316566</td>\n",
       "      <td>1105.812331</td>\n",
       "      <td>8306.015625</td>\n",
       "      <td>288.984265</td>\n",
       "    </tr>\n",
       "    <tr>\n",
       "      <th>2</th>\n",
       "      <td>2</td>\n",
       "      <td>9322.758446</td>\n",
       "      <td>827.560053</td>\n",
       "      <td>9326.403320</td>\n",
       "      <td>796.611667</td>\n",
       "    </tr>\n",
       "    <tr>\n",
       "      <th>3</th>\n",
       "      <td>-1</td>\n",
       "      <td>5326.117760</td>\n",
       "      <td>277.998508</td>\n",
       "      <td>-1.000000</td>\n",
       "      <td>0.000000</td>\n",
       "    </tr>\n",
       "    <tr>\n",
       "      <th>4</th>\n",
       "      <td>-1</td>\n",
       "      <td>70378.807908</td>\n",
       "      <td>131.867443</td>\n",
       "      <td>-1.000000</td>\n",
       "      <td>0.000000</td>\n",
       "    </tr>\n",
       "    <tr>\n",
       "      <th>5</th>\n",
       "      <td>5</td>\n",
       "      <td>23313.139473</td>\n",
       "      <td>2080.672464</td>\n",
       "      <td>23321.103516</td>\n",
       "      <td>1909.333509</td>\n",
       "    </tr>\n",
       "    <tr>\n",
       "      <th>6</th>\n",
       "      <td>13</td>\n",
       "      <td>88756.855815</td>\n",
       "      <td>1287.999556</td>\n",
       "      <td>88765.953125</td>\n",
       "      <td>2.004961</td>\n",
       "    </tr>\n",
       "    <tr>\n",
       "      <th>7</th>\n",
       "      <td>5</td>\n",
       "      <td>60222.901108</td>\n",
       "      <td>229.558478</td>\n",
       "      <td>60226.902344</td>\n",
       "      <td>14.315173</td>\n",
       "    </tr>\n",
       "    <tr>\n",
       "      <th>8</th>\n",
       "      <td>4</td>\n",
       "      <td>21319.802924</td>\n",
       "      <td>1963.313063</td>\n",
       "      <td>21329.414062</td>\n",
       "      <td>1110.598750</td>\n",
       "    </tr>\n",
       "    <tr>\n",
       "      <th>9</th>\n",
       "      <td>7</td>\n",
       "      <td>9008.522913</td>\n",
       "      <td>1146.828198</td>\n",
       "      <td>9032.354492</td>\n",
       "      <td>130.466428</td>\n",
       "    </tr>\n",
       "  </tbody>\n",
       "</table>\n",
       "</div>"
      ],
      "text/plain": [
       "   calo_num    time_truth      e_truth      time_hit        e_dep\n",
       "0         1   2597.835227   233.450529   2599.191650   220.973088\n",
       "1        21   8286.316566  1105.812331   8306.015625   288.984265\n",
       "2         2   9322.758446   827.560053   9326.403320   796.611667\n",
       "3        -1   5326.117760   277.998508     -1.000000     0.000000\n",
       "4        -1  70378.807908   131.867443     -1.000000     0.000000\n",
       "5         5  23313.139473  2080.672464  23321.103516  1909.333509\n",
       "6        13  88756.855815  1287.999556  88765.953125     2.004961\n",
       "7         5  60222.901108   229.558478  60226.902344    14.315173\n",
       "8         4  21319.802924  1963.313063  21329.414062  1110.598750\n",
       "9         7   9008.522913  1146.828198   9032.354492   130.466428"
      ]
     },
     "execution_count": 8,
     "metadata": {},
     "output_type": "execute_result"
    }
   ],
   "source": [
    "data_rows = []\n",
    "for entry in tree:\n",
    "    data_rows.append([entry.caloNum, entry.timeTruth, entry.eTruth,\n",
    "                                          entry.timeHit, entry.eDep])\n",
    "# create the analysis DataFrame\n",
    "df = pd.DataFrame(data_rows, columns=['calo_num', 'time_truth', 'e_truth', 'time_hit', 'e_dep'])\n",
    "df.head(10)"
   ]
  },
  {
   "cell_type": "markdown",
   "metadata": {
    "deletable": true,
    "editable": true
   },
   "source": [
    "Here, $calo\\_num = -1$ means there is no calo hit (evident by the zero e_dep)."
   ]
  },
  {
   "cell_type": "markdown",
   "metadata": {
    "deletable": true,
    "editable": true
   },
   "source": [
    "## Let's look at the histograms\n",
    "\n",
    "In pandas, it is way simpler."
   ]
  },
  {
   "cell_type": "code",
   "execution_count": 9,
   "metadata": {
    "collapsed": false,
    "deletable": true,
    "editable": true
   },
   "outputs": [
    {
     "data": {
      "text/plain": [
       "array([[<matplotlib.axes._subplots.AxesSubplot object at 0x114531b50>,\n",
       "        <matplotlib.axes._subplots.AxesSubplot object at 0x114deca90>],\n",
       "       [<matplotlib.axes._subplots.AxesSubplot object at 0x114e7e510>,\n",
       "        <matplotlib.axes._subplots.AxesSubplot object at 0x114ee5890>],\n",
       "       [<matplotlib.axes._subplots.AxesSubplot object at 0x114f68d10>,\n",
       "        <matplotlib.axes._subplots.AxesSubplot object at 0x114fdc550>]], dtype=object)"
      ]
     },
     "execution_count": 9,
     "metadata": {},
     "output_type": "execute_result"
    },
    {
     "data": {
      "image/png": "[encoded data removed]",
      "text/plain": [
       "<matplotlib.figure.Figure at 0x113eb2c10>"
      ]
     },
     "metadata": {},
     "output_type": "display_data"
    }
   ],
   "source": [
    "df.hist(layout=(3,2),bins=50,color='blue',histtype='step', lw=2)"
   ]
  },
  {
   "cell_type": "markdown",
   "metadata": {
    "deletable": true,
    "editable": true
   },
   "source": [
    "## 2.1 remove events with no hits and sort the rest according to the calo_num and then time_truth"
   ]
  },
  {
   "cell_type": "code",
   "execution_count": 10,
   "metadata": {
    "collapsed": false,
    "deletable": true,
    "editable": true
   },
   "outputs": [
    {
     "data": {
      "text/html": [
       "<div>\n",
       "<table border=\"1\" class=\"dataframe\">\n",
       "  <thead>\n",
       "    <tr style=\"text-align: right;\">\n",
       "      <th></th>\n",
       "      <th>calo_num</th>\n",
       "      <th>time_truth</th>\n",
       "      <th>e_truth</th>\n",
       "      <th>time_hit</th>\n",
       "      <th>e_dep</th>\n",
       "    </tr>\n",
       "  </thead>\n",
       "  <tbody>\n",
       "    <tr>\n",
       "      <th>0</th>\n",
       "      <td>0</td>\n",
       "      <td>115.871234</td>\n",
       "      <td>293.399686</td>\n",
       "      <td>118.182472</td>\n",
       "      <td>125.575507</td>\n",
       "    </tr>\n",
       "    <tr>\n",
       "      <th>1</th>\n",
       "      <td>0</td>\n",
       "      <td>122.548781</td>\n",
       "      <td>858.783237</td>\n",
       "      <td>126.320602</td>\n",
       "      <td>769.521276</td>\n",
       "    </tr>\n",
       "    <tr>\n",
       "      <th>2</th>\n",
       "      <td>0</td>\n",
       "      <td>186.342021</td>\n",
       "      <td>1436.879928</td>\n",
       "      <td>190.300842</td>\n",
       "      <td>1325.108935</td>\n",
       "    </tr>\n",
       "    <tr>\n",
       "      <th>3</th>\n",
       "      <td>0</td>\n",
       "      <td>188.854145</td>\n",
       "      <td>791.989991</td>\n",
       "      <td>192.108627</td>\n",
       "      <td>763.625368</td>\n",
       "    </tr>\n",
       "    <tr>\n",
       "      <th>4</th>\n",
       "      <td>0</td>\n",
       "      <td>190.213433</td>\n",
       "      <td>434.357860</td>\n",
       "      <td>191.589844</td>\n",
       "      <td>414.831847</td>\n",
       "    </tr>\n",
       "    <tr>\n",
       "      <th>5</th>\n",
       "      <td>0</td>\n",
       "      <td>195.316774</td>\n",
       "      <td>1053.989131</td>\n",
       "      <td>214.105499</td>\n",
       "      <td>274.225989</td>\n",
       "    </tr>\n",
       "    <tr>\n",
       "      <th>6</th>\n",
       "      <td>0</td>\n",
       "      <td>208.369221</td>\n",
       "      <td>1119.362785</td>\n",
       "      <td>217.130219</td>\n",
       "      <td>617.859847</td>\n",
       "    </tr>\n",
       "    <tr>\n",
       "      <th>7</th>\n",
       "      <td>0</td>\n",
       "      <td>218.663106</td>\n",
       "      <td>555.463273</td>\n",
       "      <td>221.481232</td>\n",
       "      <td>536.268886</td>\n",
       "    </tr>\n",
       "    <tr>\n",
       "      <th>8</th>\n",
       "      <td>0</td>\n",
       "      <td>250.116720</td>\n",
       "      <td>139.261601</td>\n",
       "      <td>298.500061</td>\n",
       "      <td>2.107877</td>\n",
       "    </tr>\n",
       "    <tr>\n",
       "      <th>9</th>\n",
       "      <td>0</td>\n",
       "      <td>263.774723</td>\n",
       "      <td>267.584581</td>\n",
       "      <td>264.932587</td>\n",
       "      <td>71.072469</td>\n",
       "    </tr>\n",
       "  </tbody>\n",
       "</table>\n",
       "</div>"
      ],
      "text/plain": [
       "   calo_num  time_truth      e_truth    time_hit        e_dep\n",
       "0         0  115.871234   293.399686  118.182472   125.575507\n",
       "1         0  122.548781   858.783237  126.320602   769.521276\n",
       "2         0  186.342021  1436.879928  190.300842  1325.108935\n",
       "3         0  188.854145   791.989991  192.108627   763.625368\n",
       "4         0  190.213433   434.357860  191.589844   414.831847\n",
       "5         0  195.316774  1053.989131  214.105499   274.225989\n",
       "6         0  208.369221  1119.362785  217.130219   617.859847\n",
       "7         0  218.663106   555.463273  221.481232   536.268886\n",
       "8         0  250.116720   139.261601  298.500061     2.107877\n",
       "9         0  263.774723   267.584581  264.932587    71.072469"
      ]
     },
     "execution_count": 10,
     "metadata": {},
     "output_type": "execute_result"
    }
   ],
   "source": [
    "df = df[df.calo_num>-1]\n",
    "df = df.sort_values(['calo_num','time_truth'])\n",
    "df = df.reset_index(drop=True)\n",
    "df.head(10)"
   ]
  },
  {
   "cell_type": "markdown",
   "metadata": {
    "deletable": true,
    "editable": true
   },
   "source": [
    "## 2.2 Let's look only at calo 00 and look at the time between positron events\n",
    "\n",
    "First we calculate a variable $dt\\_last = t\\_current - t\\_previous$."
   ]
  },
  {
   "cell_type": "code",
   "execution_count": 11,
   "metadata": {
    "collapsed": false,
    "deletable": true,
    "editable": true,
    "scrolled": false
   },
   "outputs": [
    {
     "data": {
      "text/html": [
       "<div>\n",
       "<table border=\"1\" class=\"dataframe\">\n",
       "  <thead>\n",
       "    <tr style=\"text-align: right;\">\n",
       "      <th></th>\n",
       "      <th>time_truth</th>\n",
       "      <th>e_truth</th>\n",
       "      <th>time_hit</th>\n",
       "      <th>e_dep</th>\n",
       "      <th>dt_next</th>\n",
       "      <th>dt_previous</th>\n",
       "    </tr>\n",
       "  </thead>\n",
       "  <tbody>\n",
       "    <tr>\n",
       "      <th>0</th>\n",
       "      <td>115.871234</td>\n",
       "      <td>293.399686</td>\n",
       "      <td>118.182472</td>\n",
       "      <td>125.575507</td>\n",
       "      <td>6.677546</td>\n",
       "      <td>NaN</td>\n",
       "    </tr>\n",
       "    <tr>\n",
       "      <th>1</th>\n",
       "      <td>122.548781</td>\n",
       "      <td>858.783237</td>\n",
       "      <td>126.320602</td>\n",
       "      <td>769.521276</td>\n",
       "      <td>63.793241</td>\n",
       "      <td>6.677546</td>\n",
       "    </tr>\n",
       "    <tr>\n",
       "      <th>2</th>\n",
       "      <td>186.342021</td>\n",
       "      <td>1436.879928</td>\n",
       "      <td>190.300842</td>\n",
       "      <td>1325.108935</td>\n",
       "      <td>2.512124</td>\n",
       "      <td>63.793241</td>\n",
       "    </tr>\n",
       "    <tr>\n",
       "      <th>3</th>\n",
       "      <td>188.854145</td>\n",
       "      <td>791.989991</td>\n",
       "      <td>192.108627</td>\n",
       "      <td>763.625368</td>\n",
       "      <td>1.359288</td>\n",
       "      <td>2.512124</td>\n",
       "    </tr>\n",
       "    <tr>\n",
       "      <th>4</th>\n",
       "      <td>190.213433</td>\n",
       "      <td>434.357860</td>\n",
       "      <td>191.589844</td>\n",
       "      <td>414.831847</td>\n",
       "      <td>5.103341</td>\n",
       "      <td>1.359288</td>\n",
       "    </tr>\n",
       "    <tr>\n",
       "      <th>5</th>\n",
       "      <td>195.316774</td>\n",
       "      <td>1053.989131</td>\n",
       "      <td>214.105499</td>\n",
       "      <td>274.225989</td>\n",
       "      <td>13.052446</td>\n",
       "      <td>5.103341</td>\n",
       "    </tr>\n",
       "    <tr>\n",
       "      <th>6</th>\n",
       "      <td>208.369221</td>\n",
       "      <td>1119.362785</td>\n",
       "      <td>217.130219</td>\n",
       "      <td>617.859847</td>\n",
       "      <td>10.293885</td>\n",
       "      <td>13.052446</td>\n",
       "    </tr>\n",
       "    <tr>\n",
       "      <th>7</th>\n",
       "      <td>218.663106</td>\n",
       "      <td>555.463273</td>\n",
       "      <td>221.481232</td>\n",
       "      <td>536.268886</td>\n",
       "      <td>31.453614</td>\n",
       "      <td>10.293885</td>\n",
       "    </tr>\n",
       "    <tr>\n",
       "      <th>8</th>\n",
       "      <td>250.116720</td>\n",
       "      <td>139.261601</td>\n",
       "      <td>298.500061</td>\n",
       "      <td>2.107877</td>\n",
       "      <td>13.658003</td>\n",
       "      <td>31.453614</td>\n",
       "    </tr>\n",
       "    <tr>\n",
       "      <th>9</th>\n",
       "      <td>263.774723</td>\n",
       "      <td>267.584581</td>\n",
       "      <td>264.932587</td>\n",
       "      <td>71.072469</td>\n",
       "      <td>103.446477</td>\n",
       "      <td>13.658003</td>\n",
       "    </tr>\n",
       "  </tbody>\n",
       "</table>\n",
       "</div>"
      ],
      "text/plain": [
       "   time_truth      e_truth    time_hit        e_dep     dt_next  dt_previous\n",
       "0  115.871234   293.399686  118.182472   125.575507    6.677546          NaN\n",
       "1  122.548781   858.783237  126.320602   769.521276   63.793241     6.677546\n",
       "2  186.342021  1436.879928  190.300842  1325.108935    2.512124    63.793241\n",
       "3  188.854145   791.989991  192.108627   763.625368    1.359288     2.512124\n",
       "4  190.213433   434.357860  191.589844   414.831847    5.103341     1.359288\n",
       "5  195.316774  1053.989131  214.105499   274.225989   13.052446     5.103341\n",
       "6  208.369221  1119.362785  217.130219   617.859847   10.293885    13.052446\n",
       "7  218.663106   555.463273  221.481232   536.268886   31.453614    10.293885\n",
       "8  250.116720   139.261601  298.500061     2.107877   13.658003    31.453614\n",
       "9  263.774723   267.584581  264.932587    71.072469  103.446477    13.658003"
      ]
     },
     "execution_count": 11,
     "metadata": {},
     "output_type": "execute_result"
    }
   ],
   "source": [
    "calo00 = df[df.calo_num==0]\n",
    "calo00 = calo00.drop('calo_num', 1)\n",
    "calo00['dt_next'] = calo00['time_truth'].diff(1).shift(-1)\n",
    "calo00['dt_previous'] = calo00['dt_next'].shift(1)\n",
    "#calo00 = calo00.replace('NaN',0)\n",
    "calo00 = calo00.reset_index(drop=True)\n",
    "calo00.head(10)"
   ]
  },
  {
   "cell_type": "markdown",
   "metadata": {
    "deletable": true,
    "editable": true
   },
   "source": [
    "Let's look at the time distribution and the energy distribution again."
   ]
  },
  {
   "cell_type": "code",
   "execution_count": 12,
   "metadata": {
    "collapsed": false,
    "deletable": true,
    "editable": true
   },
   "outputs": [
    {
     "data": {
      "text/plain": [
       "array([[<matplotlib.axes._subplots.AxesSubplot object at 0x115277fd0>,\n",
       "        <matplotlib.axes._subplots.AxesSubplot object at 0x12cae6990>]], dtype=object)"
      ]
     },
     "execution_count": 12,
     "metadata": {},
     "output_type": "execute_result"
    },
    {
     "data": {
      "image/png": "[encoded data removed]",
      "text/plain": [
       "<matplotlib.figure.Figure at 0x10ecdc510>"
      ]
     },
     "metadata": {},
     "output_type": "display_data"
    }
   ],
   "source": [
    "calo00.hist(['time_truth','e_truth'],bins=100,color='red',histtype='step', lw=2)"
   ]
  },
  {
   "cell_type": "markdown",
   "metadata": {
    "deletable": true,
    "editable": true
   },
   "source": [
    "## 2.3 Add another column to show that an event is a pileup to the previous event"
   ]
  },
  {
   "cell_type": "code",
   "execution_count": 13,
   "metadata": {
    "collapsed": false,
    "deletable": true,
    "editable": true
   },
   "outputs": [
    {
     "data": {
      "text/html": [
       "<div>\n",
       "<table border=\"1\" class=\"dataframe\">\n",
       "  <thead>\n",
       "    <tr style=\"text-align: right;\">\n",
       "      <th></th>\n",
       "      <th>time_truth</th>\n",
       "      <th>e_truth</th>\n",
       "      <th>time_hit</th>\n",
       "      <th>e_dep</th>\n",
       "      <th>dt_next</th>\n",
       "      <th>dt_previous</th>\n",
       "      <th>is_pileup</th>\n",
       "    </tr>\n",
       "  </thead>\n",
       "  <tbody>\n",
       "    <tr>\n",
       "      <th>0</th>\n",
       "      <td>115.871234</td>\n",
       "      <td>293.399686</td>\n",
       "      <td>118.182472</td>\n",
       "      <td>125.575507</td>\n",
       "      <td>6.677546</td>\n",
       "      <td>NaN</td>\n",
       "      <td>False</td>\n",
       "    </tr>\n",
       "    <tr>\n",
       "      <th>1</th>\n",
       "      <td>122.548781</td>\n",
       "      <td>858.783237</td>\n",
       "      <td>126.320602</td>\n",
       "      <td>769.521276</td>\n",
       "      <td>63.793241</td>\n",
       "      <td>6.677546</td>\n",
       "      <td>False</td>\n",
       "    </tr>\n",
       "    <tr>\n",
       "      <th>2</th>\n",
       "      <td>186.342021</td>\n",
       "      <td>1436.879928</td>\n",
       "      <td>190.300842</td>\n",
       "      <td>1325.108935</td>\n",
       "      <td>2.512124</td>\n",
       "      <td>63.793241</td>\n",
       "      <td>False</td>\n",
       "    </tr>\n",
       "    <tr>\n",
       "      <th>3</th>\n",
       "      <td>188.854145</td>\n",
       "      <td>791.989991</td>\n",
       "      <td>192.108627</td>\n",
       "      <td>763.625368</td>\n",
       "      <td>1.359288</td>\n",
       "      <td>2.512124</td>\n",
       "      <td>True</td>\n",
       "    </tr>\n",
       "    <tr>\n",
       "      <th>4</th>\n",
       "      <td>190.213433</td>\n",
       "      <td>434.357860</td>\n",
       "      <td>191.589844</td>\n",
       "      <td>414.831847</td>\n",
       "      <td>5.103341</td>\n",
       "      <td>1.359288</td>\n",
       "      <td>True</td>\n",
       "    </tr>\n",
       "    <tr>\n",
       "      <th>5</th>\n",
       "      <td>195.316774</td>\n",
       "      <td>1053.989131</td>\n",
       "      <td>214.105499</td>\n",
       "      <td>274.225989</td>\n",
       "      <td>13.052446</td>\n",
       "      <td>5.103341</td>\n",
       "      <td>False</td>\n",
       "    </tr>\n",
       "    <tr>\n",
       "      <th>6</th>\n",
       "      <td>208.369221</td>\n",
       "      <td>1119.362785</td>\n",
       "      <td>217.130219</td>\n",
       "      <td>617.859847</td>\n",
       "      <td>10.293885</td>\n",
       "      <td>13.052446</td>\n",
       "      <td>False</td>\n",
       "    </tr>\n",
       "    <tr>\n",
       "      <th>7</th>\n",
       "      <td>218.663106</td>\n",
       "      <td>555.463273</td>\n",
       "      <td>221.481232</td>\n",
       "      <td>536.268886</td>\n",
       "      <td>31.453614</td>\n",
       "      <td>10.293885</td>\n",
       "      <td>False</td>\n",
       "    </tr>\n",
       "    <tr>\n",
       "      <th>8</th>\n",
       "      <td>250.116720</td>\n",
       "      <td>139.261601</td>\n",
       "      <td>298.500061</td>\n",
       "      <td>2.107877</td>\n",
       "      <td>13.658003</td>\n",
       "      <td>31.453614</td>\n",
       "      <td>False</td>\n",
       "    </tr>\n",
       "    <tr>\n",
       "      <th>9</th>\n",
       "      <td>263.774723</td>\n",
       "      <td>267.584581</td>\n",
       "      <td>264.932587</td>\n",
       "      <td>71.072469</td>\n",
       "      <td>103.446477</td>\n",
       "      <td>13.658003</td>\n",
       "      <td>False</td>\n",
       "    </tr>\n",
       "    <tr>\n",
       "      <th>10</th>\n",
       "      <td>367.221200</td>\n",
       "      <td>1502.784934</td>\n",
       "      <td>375.791779</td>\n",
       "      <td>190.877988</td>\n",
       "      <td>4.409684</td>\n",
       "      <td>103.446477</td>\n",
       "      <td>False</td>\n",
       "    </tr>\n",
       "    <tr>\n",
       "      <th>11</th>\n",
       "      <td>371.630884</td>\n",
       "      <td>538.717158</td>\n",
       "      <td>378.135406</td>\n",
       "      <td>0.144824</td>\n",
       "      <td>30.478616</td>\n",
       "      <td>4.409684</td>\n",
       "      <td>True</td>\n",
       "    </tr>\n",
       "    <tr>\n",
       "      <th>12</th>\n",
       "      <td>402.109499</td>\n",
       "      <td>1250.698656</td>\n",
       "      <td>408.305115</td>\n",
       "      <td>0.110138</td>\n",
       "      <td>14.742538</td>\n",
       "      <td>30.478616</td>\n",
       "      <td>False</td>\n",
       "    </tr>\n",
       "    <tr>\n",
       "      <th>13</th>\n",
       "      <td>416.852038</td>\n",
       "      <td>1514.718734</td>\n",
       "      <td>420.642883</td>\n",
       "      <td>327.184316</td>\n",
       "      <td>58.101623</td>\n",
       "      <td>14.742538</td>\n",
       "      <td>False</td>\n",
       "    </tr>\n",
       "    <tr>\n",
       "      <th>14</th>\n",
       "      <td>474.953660</td>\n",
       "      <td>1377.421295</td>\n",
       "      <td>479.675873</td>\n",
       "      <td>925.062814</td>\n",
       "      <td>20.564086</td>\n",
       "      <td>58.101623</td>\n",
       "      <td>False</td>\n",
       "    </tr>\n",
       "  </tbody>\n",
       "</table>\n",
       "</div>"
      ],
      "text/plain": [
       "    time_truth      e_truth    time_hit        e_dep     dt_next  dt_previous  \\\n",
       "0   115.871234   293.399686  118.182472   125.575507    6.677546          NaN   \n",
       "1   122.548781   858.783237  126.320602   769.521276   63.793241     6.677546   \n",
       "2   186.342021  1436.879928  190.300842  1325.108935    2.512124    63.793241   \n",
       "3   188.854145   791.989991  192.108627   763.625368    1.359288     2.512124   \n",
       "4   190.213433   434.357860  191.589844   414.831847    5.103341     1.359288   \n",
       "5   195.316774  1053.989131  214.105499   274.225989   13.052446     5.103341   \n",
       "6   208.369221  1119.362785  217.130219   617.859847   10.293885    13.052446   \n",
       "7   218.663106   555.463273  221.481232   536.268886   31.453614    10.293885   \n",
       "8   250.116720   139.261601  298.500061     2.107877   13.658003    31.453614   \n",
       "9   263.774723   267.584581  264.932587    71.072469  103.446477    13.658003   \n",
       "10  367.221200  1502.784934  375.791779   190.877988    4.409684   103.446477   \n",
       "11  371.630884   538.717158  378.135406     0.144824   30.478616     4.409684   \n",
       "12  402.109499  1250.698656  408.305115     0.110138   14.742538    30.478616   \n",
       "13  416.852038  1514.718734  420.642883   327.184316   58.101623    14.742538   \n",
       "14  474.953660  1377.421295  479.675873   925.062814   20.564086    58.101623   \n",
       "\n",
       "   is_pileup  \n",
       "0      False  \n",
       "1      False  \n",
       "2      False  \n",
       "3       True  \n",
       "4       True  \n",
       "5      False  \n",
       "6      False  \n",
       "7      False  \n",
       "8      False  \n",
       "9      False  \n",
       "10     False  \n",
       "11      True  \n",
       "12     False  \n",
       "13     False  \n",
       "14     False  "
      ]
     },
     "execution_count": 13,
     "metadata": {},
     "output_type": "execute_result"
    }
   ],
   "source": [
    "calo00['is_pileup'] = calo00.dt_previous < 5\n",
    "calo00.head(15)"
   ]
  },
  {
   "cell_type": "markdown",
   "metadata": {
    "deletable": true,
    "editable": true
   },
   "source": [
    "## 2.4 Add another column to indicate the first event index in case of pileups "
   ]
  },
  {
   "cell_type": "code",
   "execution_count": 14,
   "metadata": {
    "collapsed": false,
    "deletable": true,
    "editable": true,
    "scrolled": false
   },
   "outputs": [
    {
     "data": {
      "text/html": [
       "<div>\n",
       "<table border=\"1\" class=\"dataframe\">\n",
       "  <thead>\n",
       "    <tr style=\"text-align: right;\">\n",
       "      <th></th>\n",
       "      <th>time_truth</th>\n",
       "      <th>e_truth</th>\n",
       "      <th>time_hit</th>\n",
       "      <th>e_dep</th>\n",
       "      <th>dt_next</th>\n",
       "      <th>dt_previous</th>\n",
       "      <th>is_pileup</th>\n",
       "      <th>index</th>\n",
       "    </tr>\n",
       "  </thead>\n",
       "  <tbody>\n",
       "    <tr>\n",
       "      <th>0</th>\n",
       "      <td>115.871234</td>\n",
       "      <td>293.399686</td>\n",
       "      <td>118.182472</td>\n",
       "      <td>125.575507</td>\n",
       "      <td>6.677546</td>\n",
       "      <td>NaN</td>\n",
       "      <td>False</td>\n",
       "      <td>0</td>\n",
       "    </tr>\n",
       "    <tr>\n",
       "      <th>1</th>\n",
       "      <td>122.548781</td>\n",
       "      <td>858.783237</td>\n",
       "      <td>126.320602</td>\n",
       "      <td>769.521276</td>\n",
       "      <td>63.793241</td>\n",
       "      <td>6.677546</td>\n",
       "      <td>False</td>\n",
       "      <td>1</td>\n",
       "    </tr>\n",
       "    <tr>\n",
       "      <th>2</th>\n",
       "      <td>186.342021</td>\n",
       "      <td>1436.879928</td>\n",
       "      <td>190.300842</td>\n",
       "      <td>1325.108935</td>\n",
       "      <td>2.512124</td>\n",
       "      <td>63.793241</td>\n",
       "      <td>False</td>\n",
       "      <td>2</td>\n",
       "    </tr>\n",
       "    <tr>\n",
       "      <th>3</th>\n",
       "      <td>188.854145</td>\n",
       "      <td>791.989991</td>\n",
       "      <td>192.108627</td>\n",
       "      <td>763.625368</td>\n",
       "      <td>1.359288</td>\n",
       "      <td>2.512124</td>\n",
       "      <td>True</td>\n",
       "      <td>2</td>\n",
       "    </tr>\n",
       "    <tr>\n",
       "      <th>4</th>\n",
       "      <td>190.213433</td>\n",
       "      <td>434.357860</td>\n",
       "      <td>191.589844</td>\n",
       "      <td>414.831847</td>\n",
       "      <td>5.103341</td>\n",
       "      <td>1.359288</td>\n",
       "      <td>True</td>\n",
       "      <td>3</td>\n",
       "    </tr>\n",
       "    <tr>\n",
       "      <th>5</th>\n",
       "      <td>195.316774</td>\n",
       "      <td>1053.989131</td>\n",
       "      <td>214.105499</td>\n",
       "      <td>274.225989</td>\n",
       "      <td>13.052446</td>\n",
       "      <td>5.103341</td>\n",
       "      <td>False</td>\n",
       "      <td>5</td>\n",
       "    </tr>\n",
       "    <tr>\n",
       "      <th>6</th>\n",
       "      <td>208.369221</td>\n",
       "      <td>1119.362785</td>\n",
       "      <td>217.130219</td>\n",
       "      <td>617.859847</td>\n",
       "      <td>10.293885</td>\n",
       "      <td>13.052446</td>\n",
       "      <td>False</td>\n",
       "      <td>6</td>\n",
       "    </tr>\n",
       "    <tr>\n",
       "      <th>7</th>\n",
       "      <td>218.663106</td>\n",
       "      <td>555.463273</td>\n",
       "      <td>221.481232</td>\n",
       "      <td>536.268886</td>\n",
       "      <td>31.453614</td>\n",
       "      <td>10.293885</td>\n",
       "      <td>False</td>\n",
       "      <td>7</td>\n",
       "    </tr>\n",
       "    <tr>\n",
       "      <th>8</th>\n",
       "      <td>250.116720</td>\n",
       "      <td>139.261601</td>\n",
       "      <td>298.500061</td>\n",
       "      <td>2.107877</td>\n",
       "      <td>13.658003</td>\n",
       "      <td>31.453614</td>\n",
       "      <td>False</td>\n",
       "      <td>8</td>\n",
       "    </tr>\n",
       "    <tr>\n",
       "      <th>9</th>\n",
       "      <td>263.774723</td>\n",
       "      <td>267.584581</td>\n",
       "      <td>264.932587</td>\n",
       "      <td>71.072469</td>\n",
       "      <td>103.446477</td>\n",
       "      <td>13.658003</td>\n",
       "      <td>False</td>\n",
       "      <td>9</td>\n",
       "    </tr>\n",
       "  </tbody>\n",
       "</table>\n",
       "</div>"
      ],
      "text/plain": [
       "   time_truth      e_truth    time_hit        e_dep     dt_next  dt_previous  \\\n",
       "0  115.871234   293.399686  118.182472   125.575507    6.677546          NaN   \n",
       "1  122.548781   858.783237  126.320602   769.521276   63.793241     6.677546   \n",
       "2  186.342021  1436.879928  190.300842  1325.108935    2.512124    63.793241   \n",
       "3  188.854145   791.989991  192.108627   763.625368    1.359288     2.512124   \n",
       "4  190.213433   434.357860  191.589844   414.831847    5.103341     1.359288   \n",
       "5  195.316774  1053.989131  214.105499   274.225989   13.052446     5.103341   \n",
       "6  208.369221  1119.362785  217.130219   617.859847   10.293885    13.052446   \n",
       "7  218.663106   555.463273  221.481232   536.268886   31.453614    10.293885   \n",
       "8  250.116720   139.261601  298.500061     2.107877   13.658003    31.453614   \n",
       "9  263.774723   267.584581  264.932587    71.072469  103.446477    13.658003   \n",
       "\n",
       "  is_pileup  index  \n",
       "0     False      0  \n",
       "1     False      1  \n",
       "2     False      2  \n",
       "3      True      2  \n",
       "4      True      3  \n",
       "5     False      5  \n",
       "6     False      6  \n",
       "7     False      7  \n",
       "8     False      8  \n",
       "9     False      9  "
      ]
     },
     "execution_count": 14,
     "metadata": {},
     "output_type": "execute_result"
    }
   ],
   "source": [
    "calo00['index'] = calo00[['is_pileup']].apply(lambda x: x.name -1 if x.bool() else x.name, axis =1)\n",
    "calo00.head(10)"
   ]
  },
  {
   "cell_type": "markdown",
   "metadata": {
    "deletable": true,
    "editable": true
   },
   "source": [
    "### This method works fine for the double pile but not for the multiple pileups in general. For example, if you look at the entry no.4, the index should be 2 because it is the 3rd pulse in a triple pileup. Additional works have to be done below."
   ]
  },
  {
   "cell_type": "markdown",
   "metadata": {
    "deletable": true,
    "editable": true
   },
   "source": [
    "## 2.5 Define another variable index\\_previous to help with the pulse_index assigning"
   ]
  },
  {
   "cell_type": "code",
   "execution_count": 15,
   "metadata": {
    "collapsed": false,
    "deletable": true,
    "editable": true
   },
   "outputs": [
    {
     "data": {
      "text/html": [
       "<div>\n",
       "<table border=\"1\" class=\"dataframe\">\n",
       "  <thead>\n",
       "    <tr style=\"text-align: right;\">\n",
       "      <th></th>\n",
       "      <th>time_truth</th>\n",
       "      <th>e_truth</th>\n",
       "      <th>time_hit</th>\n",
       "      <th>e_dep</th>\n",
       "      <th>dt_next</th>\n",
       "      <th>dt_previous</th>\n",
       "      <th>is_pileup</th>\n",
       "      <th>index</th>\n",
       "      <th>index_previous</th>\n",
       "    </tr>\n",
       "  </thead>\n",
       "  <tbody>\n",
       "    <tr>\n",
       "      <th>0</th>\n",
       "      <td>115.871234</td>\n",
       "      <td>293.399686</td>\n",
       "      <td>118.182472</td>\n",
       "      <td>125.575507</td>\n",
       "      <td>6.677546</td>\n",
       "      <td>NaN</td>\n",
       "      <td>False</td>\n",
       "      <td>0</td>\n",
       "      <td>NaN</td>\n",
       "    </tr>\n",
       "    <tr>\n",
       "      <th>1</th>\n",
       "      <td>122.548781</td>\n",
       "      <td>858.783237</td>\n",
       "      <td>126.320602</td>\n",
       "      <td>769.521276</td>\n",
       "      <td>63.793241</td>\n",
       "      <td>6.677546</td>\n",
       "      <td>False</td>\n",
       "      <td>1</td>\n",
       "      <td>1.0</td>\n",
       "    </tr>\n",
       "    <tr>\n",
       "      <th>2</th>\n",
       "      <td>186.342021</td>\n",
       "      <td>1436.879928</td>\n",
       "      <td>190.300842</td>\n",
       "      <td>1325.108935</td>\n",
       "      <td>2.512124</td>\n",
       "      <td>63.793241</td>\n",
       "      <td>False</td>\n",
       "      <td>2</td>\n",
       "      <td>1.0</td>\n",
       "    </tr>\n",
       "    <tr>\n",
       "      <th>3</th>\n",
       "      <td>188.854145</td>\n",
       "      <td>791.989991</td>\n",
       "      <td>192.108627</td>\n",
       "      <td>763.625368</td>\n",
       "      <td>1.359288</td>\n",
       "      <td>2.512124</td>\n",
       "      <td>True</td>\n",
       "      <td>2</td>\n",
       "      <td>0.0</td>\n",
       "    </tr>\n",
       "    <tr>\n",
       "      <th>4</th>\n",
       "      <td>190.213433</td>\n",
       "      <td>434.357860</td>\n",
       "      <td>191.589844</td>\n",
       "      <td>414.831847</td>\n",
       "      <td>5.103341</td>\n",
       "      <td>1.359288</td>\n",
       "      <td>True</td>\n",
       "      <td>3</td>\n",
       "      <td>1.0</td>\n",
       "    </tr>\n",
       "    <tr>\n",
       "      <th>5</th>\n",
       "      <td>195.316774</td>\n",
       "      <td>1053.989131</td>\n",
       "      <td>214.105499</td>\n",
       "      <td>274.225989</td>\n",
       "      <td>13.052446</td>\n",
       "      <td>5.103341</td>\n",
       "      <td>False</td>\n",
       "      <td>5</td>\n",
       "      <td>2.0</td>\n",
       "    </tr>\n",
       "    <tr>\n",
       "      <th>6</th>\n",
       "      <td>208.369221</td>\n",
       "      <td>1119.362785</td>\n",
       "      <td>217.130219</td>\n",
       "      <td>617.859847</td>\n",
       "      <td>10.293885</td>\n",
       "      <td>13.052446</td>\n",
       "      <td>False</td>\n",
       "      <td>6</td>\n",
       "      <td>1.0</td>\n",
       "    </tr>\n",
       "    <tr>\n",
       "      <th>7</th>\n",
       "      <td>218.663106</td>\n",
       "      <td>555.463273</td>\n",
       "      <td>221.481232</td>\n",
       "      <td>536.268886</td>\n",
       "      <td>31.453614</td>\n",
       "      <td>10.293885</td>\n",
       "      <td>False</td>\n",
       "      <td>7</td>\n",
       "      <td>1.0</td>\n",
       "    </tr>\n",
       "    <tr>\n",
       "      <th>8</th>\n",
       "      <td>250.116720</td>\n",
       "      <td>139.261601</td>\n",
       "      <td>298.500061</td>\n",
       "      <td>2.107877</td>\n",
       "      <td>13.658003</td>\n",
       "      <td>31.453614</td>\n",
       "      <td>False</td>\n",
       "      <td>8</td>\n",
       "      <td>1.0</td>\n",
       "    </tr>\n",
       "    <tr>\n",
       "      <th>9</th>\n",
       "      <td>263.774723</td>\n",
       "      <td>267.584581</td>\n",
       "      <td>264.932587</td>\n",
       "      <td>71.072469</td>\n",
       "      <td>103.446477</td>\n",
       "      <td>13.658003</td>\n",
       "      <td>False</td>\n",
       "      <td>9</td>\n",
       "      <td>1.0</td>\n",
       "    </tr>\n",
       "  </tbody>\n",
       "</table>\n",
       "</div>"
      ],
      "text/plain": [
       "   time_truth      e_truth    time_hit        e_dep     dt_next  dt_previous  \\\n",
       "0  115.871234   293.399686  118.182472   125.575507    6.677546          NaN   \n",
       "1  122.548781   858.783237  126.320602   769.521276   63.793241     6.677546   \n",
       "2  186.342021  1436.879928  190.300842  1325.108935    2.512124    63.793241   \n",
       "3  188.854145   791.989991  192.108627   763.625368    1.359288     2.512124   \n",
       "4  190.213433   434.357860  191.589844   414.831847    5.103341     1.359288   \n",
       "5  195.316774  1053.989131  214.105499   274.225989   13.052446     5.103341   \n",
       "6  208.369221  1119.362785  217.130219   617.859847   10.293885    13.052446   \n",
       "7  218.663106   555.463273  221.481232   536.268886   31.453614    10.293885   \n",
       "8  250.116720   139.261601  298.500061     2.107877   13.658003    31.453614   \n",
       "9  263.774723   267.584581  264.932587    71.072469  103.446477    13.658003   \n",
       "\n",
       "  is_pileup  index  index_previous  \n",
       "0     False      0             NaN  \n",
       "1     False      1             1.0  \n",
       "2     False      2             1.0  \n",
       "3      True      2             0.0  \n",
       "4      True      3             1.0  \n",
       "5     False      5             2.0  \n",
       "6     False      6             1.0  \n",
       "7     False      7             1.0  \n",
       "8     False      8             1.0  \n",
       "9     False      9             1.0  "
      ]
     },
     "execution_count": 15,
     "metadata": {},
     "output_type": "execute_result"
    }
   ],
   "source": [
    "calo00['index_previous'] = calo00['index'].diff(1)\n",
    "calo00.head(10)"
   ]
  },
  {
   "cell_type": "markdown",
   "metadata": {
    "deletable": true,
    "editable": true
   },
   "source": [
    "Here you can see that for entry number 4, the column index_previous is not 0 (for a pileup event it should be 0). "
   ]
  },
  {
   "cell_type": "markdown",
   "metadata": {
    "deletable": true,
    "editable": true
   },
   "source": [
    "## 2.6 Define a function to return the correct index for misidentified triple pileup"
   ]
  },
  {
   "cell_type": "code",
   "execution_count": 16,
   "metadata": {
    "collapsed": true,
    "deletable": true,
    "editable": true
   },
   "outputs": [],
   "source": [
    "def assign_pulse_index(row):\n",
    "    if(row['is_pileup']==True and row['index_previous']>0):\n",
    "        return row['index']-1\n",
    "    else:\n",
    "        return row['index']"
   ]
  },
  {
   "cell_type": "code",
   "execution_count": 17,
   "metadata": {
    "collapsed": false,
    "deletable": true,
    "editable": true
   },
   "outputs": [
    {
     "data": {
      "text/html": [
       "<div>\n",
       "<table border=\"1\" class=\"dataframe\">\n",
       "  <thead>\n",
       "    <tr style=\"text-align: right;\">\n",
       "      <th></th>\n",
       "      <th>time_truth</th>\n",
       "      <th>e_truth</th>\n",
       "      <th>time_hit</th>\n",
       "      <th>e_dep</th>\n",
       "      <th>dt_next</th>\n",
       "      <th>dt_previous</th>\n",
       "      <th>is_pileup</th>\n",
       "      <th>index</th>\n",
       "      <th>index_previous</th>\n",
       "      <th>pulse_index</th>\n",
       "    </tr>\n",
       "  </thead>\n",
       "  <tbody>\n",
       "    <tr>\n",
       "      <th>0</th>\n",
       "      <td>115.871234</td>\n",
       "      <td>293.399686</td>\n",
       "      <td>118.182472</td>\n",
       "      <td>125.575507</td>\n",
       "      <td>6.677546</td>\n",
       "      <td>NaN</td>\n",
       "      <td>False</td>\n",
       "      <td>0</td>\n",
       "      <td>NaN</td>\n",
       "      <td>0</td>\n",
       "    </tr>\n",
       "    <tr>\n",
       "      <th>1</th>\n",
       "      <td>122.548781</td>\n",
       "      <td>858.783237</td>\n",
       "      <td>126.320602</td>\n",
       "      <td>769.521276</td>\n",
       "      <td>63.793241</td>\n",
       "      <td>6.677546</td>\n",
       "      <td>False</td>\n",
       "      <td>1</td>\n",
       "      <td>1.0</td>\n",
       "      <td>1</td>\n",
       "    </tr>\n",
       "    <tr>\n",
       "      <th>2</th>\n",
       "      <td>186.342021</td>\n",
       "      <td>1436.879928</td>\n",
       "      <td>190.300842</td>\n",
       "      <td>1325.108935</td>\n",
       "      <td>2.512124</td>\n",
       "      <td>63.793241</td>\n",
       "      <td>False</td>\n",
       "      <td>2</td>\n",
       "      <td>1.0</td>\n",
       "      <td>2</td>\n",
       "    </tr>\n",
       "    <tr>\n",
       "      <th>3</th>\n",
       "      <td>188.854145</td>\n",
       "      <td>791.989991</td>\n",
       "      <td>192.108627</td>\n",
       "      <td>763.625368</td>\n",
       "      <td>1.359288</td>\n",
       "      <td>2.512124</td>\n",
       "      <td>True</td>\n",
       "      <td>2</td>\n",
       "      <td>0.0</td>\n",
       "      <td>2</td>\n",
       "    </tr>\n",
       "    <tr>\n",
       "      <th>4</th>\n",
       "      <td>190.213433</td>\n",
       "      <td>434.357860</td>\n",
       "      <td>191.589844</td>\n",
       "      <td>414.831847</td>\n",
       "      <td>5.103341</td>\n",
       "      <td>1.359288</td>\n",
       "      <td>True</td>\n",
       "      <td>3</td>\n",
       "      <td>1.0</td>\n",
       "      <td>2</td>\n",
       "    </tr>\n",
       "    <tr>\n",
       "      <th>5</th>\n",
       "      <td>195.316774</td>\n",
       "      <td>1053.989131</td>\n",
       "      <td>214.105499</td>\n",
       "      <td>274.225989</td>\n",
       "      <td>13.052446</td>\n",
       "      <td>5.103341</td>\n",
       "      <td>False</td>\n",
       "      <td>5</td>\n",
       "      <td>2.0</td>\n",
       "      <td>5</td>\n",
       "    </tr>\n",
       "    <tr>\n",
       "      <th>6</th>\n",
       "      <td>208.369221</td>\n",
       "      <td>1119.362785</td>\n",
       "      <td>217.130219</td>\n",
       "      <td>617.859847</td>\n",
       "      <td>10.293885</td>\n",
       "      <td>13.052446</td>\n",
       "      <td>False</td>\n",
       "      <td>6</td>\n",
       "      <td>1.0</td>\n",
       "      <td>6</td>\n",
       "    </tr>\n",
       "    <tr>\n",
       "      <th>7</th>\n",
       "      <td>218.663106</td>\n",
       "      <td>555.463273</td>\n",
       "      <td>221.481232</td>\n",
       "      <td>536.268886</td>\n",
       "      <td>31.453614</td>\n",
       "      <td>10.293885</td>\n",
       "      <td>False</td>\n",
       "      <td>7</td>\n",
       "      <td>1.0</td>\n",
       "      <td>7</td>\n",
       "    </tr>\n",
       "    <tr>\n",
       "      <th>8</th>\n",
       "      <td>250.116720</td>\n",
       "      <td>139.261601</td>\n",
       "      <td>298.500061</td>\n",
       "      <td>2.107877</td>\n",
       "      <td>13.658003</td>\n",
       "      <td>31.453614</td>\n",
       "      <td>False</td>\n",
       "      <td>8</td>\n",
       "      <td>1.0</td>\n",
       "      <td>8</td>\n",
       "    </tr>\n",
       "    <tr>\n",
       "      <th>9</th>\n",
       "      <td>263.774723</td>\n",
       "      <td>267.584581</td>\n",
       "      <td>264.932587</td>\n",
       "      <td>71.072469</td>\n",
       "      <td>103.446477</td>\n",
       "      <td>13.658003</td>\n",
       "      <td>False</td>\n",
       "      <td>9</td>\n",
       "      <td>1.0</td>\n",
       "      <td>9</td>\n",
       "    </tr>\n",
       "  </tbody>\n",
       "</table>\n",
       "</div>"
      ],
      "text/plain": [
       "   time_truth      e_truth    time_hit        e_dep     dt_next  dt_previous  \\\n",
       "0  115.871234   293.399686  118.182472   125.575507    6.677546          NaN   \n",
       "1  122.548781   858.783237  126.320602   769.521276   63.793241     6.677546   \n",
       "2  186.342021  1436.879928  190.300842  1325.108935    2.512124    63.793241   \n",
       "3  188.854145   791.989991  192.108627   763.625368    1.359288     2.512124   \n",
       "4  190.213433   434.357860  191.589844   414.831847    5.103341     1.359288   \n",
       "5  195.316774  1053.989131  214.105499   274.225989   13.052446     5.103341   \n",
       "6  208.369221  1119.362785  217.130219   617.859847   10.293885    13.052446   \n",
       "7  218.663106   555.463273  221.481232   536.268886   31.453614    10.293885   \n",
       "8  250.116720   139.261601  298.500061     2.107877   13.658003    31.453614   \n",
       "9  263.774723   267.584581  264.932587    71.072469  103.446477    13.658003   \n",
       "\n",
       "  is_pileup  index  index_previous  pulse_index  \n",
       "0     False      0             NaN            0  \n",
       "1     False      1             1.0            1  \n",
       "2     False      2             1.0            2  \n",
       "3      True      2             0.0            2  \n",
       "4      True      3             1.0            2  \n",
       "5     False      5             2.0            5  \n",
       "6     False      6             1.0            6  \n",
       "7     False      7             1.0            7  \n",
       "8     False      8             1.0            8  \n",
       "9     False      9             1.0            9  "
      ]
     },
     "execution_count": 17,
     "metadata": {},
     "output_type": "execute_result"
    }
   ],
   "source": [
    "calo00['pulse_index'] = calo00.apply(assign_pulse_index, axis =1)\n",
    "calo00.head(10)"
   ]
  },
  {
   "cell_type": "markdown",
   "metadata": {
    "deletable": true,
    "editable": true
   },
   "source": [
    "Now the pulse\\_index column has the value that what we expected. __Notice that we need to repeat this procedure for quadruple pileup. Since the rate is very low, I will skip it for now.__\n",
    "Now we do not need the column index and index_previous and can drop them."
   ]
  },
  {
   "cell_type": "code",
   "execution_count": 18,
   "metadata": {
    "collapsed": false,
    "deletable": true,
    "editable": true
   },
   "outputs": [
    {
     "data": {
      "text/html": [
       "<div>\n",
       "<table border=\"1\" class=\"dataframe\">\n",
       "  <thead>\n",
       "    <tr style=\"text-align: right;\">\n",
       "      <th></th>\n",
       "      <th>time_truth</th>\n",
       "      <th>e_truth</th>\n",
       "      <th>time_hit</th>\n",
       "      <th>e_dep</th>\n",
       "      <th>dt_next</th>\n",
       "      <th>dt_previous</th>\n",
       "      <th>is_pileup</th>\n",
       "      <th>pulse_index</th>\n",
       "    </tr>\n",
       "  </thead>\n",
       "  <tbody>\n",
       "    <tr>\n",
       "      <th>0</th>\n",
       "      <td>115.871234</td>\n",
       "      <td>293.399686</td>\n",
       "      <td>118.182472</td>\n",
       "      <td>125.575507</td>\n",
       "      <td>6.677546</td>\n",
       "      <td>NaN</td>\n",
       "      <td>False</td>\n",
       "      <td>0</td>\n",
       "    </tr>\n",
       "    <tr>\n",
       "      <th>1</th>\n",
       "      <td>122.548781</td>\n",
       "      <td>858.783237</td>\n",
       "      <td>126.320602</td>\n",
       "      <td>769.521276</td>\n",
       "      <td>63.793241</td>\n",
       "      <td>6.677546</td>\n",
       "      <td>False</td>\n",
       "      <td>1</td>\n",
       "    </tr>\n",
       "    <tr>\n",
       "      <th>2</th>\n",
       "      <td>186.342021</td>\n",
       "      <td>1436.879928</td>\n",
       "      <td>190.300842</td>\n",
       "      <td>1325.108935</td>\n",
       "      <td>2.512124</td>\n",
       "      <td>63.793241</td>\n",
       "      <td>False</td>\n",
       "      <td>2</td>\n",
       "    </tr>\n",
       "    <tr>\n",
       "      <th>3</th>\n",
       "      <td>188.854145</td>\n",
       "      <td>791.989991</td>\n",
       "      <td>192.108627</td>\n",
       "      <td>763.625368</td>\n",
       "      <td>1.359288</td>\n",
       "      <td>2.512124</td>\n",
       "      <td>True</td>\n",
       "      <td>2</td>\n",
       "    </tr>\n",
       "    <tr>\n",
       "      <th>4</th>\n",
       "      <td>190.213433</td>\n",
       "      <td>434.357860</td>\n",
       "      <td>191.589844</td>\n",
       "      <td>414.831847</td>\n",
       "      <td>5.103341</td>\n",
       "      <td>1.359288</td>\n",
       "      <td>True</td>\n",
       "      <td>2</td>\n",
       "    </tr>\n",
       "    <tr>\n",
       "      <th>5</th>\n",
       "      <td>195.316774</td>\n",
       "      <td>1053.989131</td>\n",
       "      <td>214.105499</td>\n",
       "      <td>274.225989</td>\n",
       "      <td>13.052446</td>\n",
       "      <td>5.103341</td>\n",
       "      <td>False</td>\n",
       "      <td>5</td>\n",
       "    </tr>\n",
       "    <tr>\n",
       "      <th>6</th>\n",
       "      <td>208.369221</td>\n",
       "      <td>1119.362785</td>\n",
       "      <td>217.130219</td>\n",
       "      <td>617.859847</td>\n",
       "      <td>10.293885</td>\n",
       "      <td>13.052446</td>\n",
       "      <td>False</td>\n",
       "      <td>6</td>\n",
       "    </tr>\n",
       "    <tr>\n",
       "      <th>7</th>\n",
       "      <td>218.663106</td>\n",
       "      <td>555.463273</td>\n",
       "      <td>221.481232</td>\n",
       "      <td>536.268886</td>\n",
       "      <td>31.453614</td>\n",
       "      <td>10.293885</td>\n",
       "      <td>False</td>\n",
       "      <td>7</td>\n",
       "    </tr>\n",
       "    <tr>\n",
       "      <th>8</th>\n",
       "      <td>250.116720</td>\n",
       "      <td>139.261601</td>\n",
       "      <td>298.500061</td>\n",
       "      <td>2.107877</td>\n",
       "      <td>13.658003</td>\n",
       "      <td>31.453614</td>\n",
       "      <td>False</td>\n",
       "      <td>8</td>\n",
       "    </tr>\n",
       "    <tr>\n",
       "      <th>9</th>\n",
       "      <td>263.774723</td>\n",
       "      <td>267.584581</td>\n",
       "      <td>264.932587</td>\n",
       "      <td>71.072469</td>\n",
       "      <td>103.446477</td>\n",
       "      <td>13.658003</td>\n",
       "      <td>False</td>\n",
       "      <td>9</td>\n",
       "    </tr>\n",
       "  </tbody>\n",
       "</table>\n",
       "</div>"
      ],
      "text/plain": [
       "   time_truth      e_truth    time_hit        e_dep     dt_next  dt_previous  \\\n",
       "0  115.871234   293.399686  118.182472   125.575507    6.677546          NaN   \n",
       "1  122.548781   858.783237  126.320602   769.521276   63.793241     6.677546   \n",
       "2  186.342021  1436.879928  190.300842  1325.108935    2.512124    63.793241   \n",
       "3  188.854145   791.989991  192.108627   763.625368    1.359288     2.512124   \n",
       "4  190.213433   434.357860  191.589844   414.831847    5.103341     1.359288   \n",
       "5  195.316774  1053.989131  214.105499   274.225989   13.052446     5.103341   \n",
       "6  208.369221  1119.362785  217.130219   617.859847   10.293885    13.052446   \n",
       "7  218.663106   555.463273  221.481232   536.268886   31.453614    10.293885   \n",
       "8  250.116720   139.261601  298.500061     2.107877   13.658003    31.453614   \n",
       "9  263.774723   267.584581  264.932587    71.072469  103.446477    13.658003   \n",
       "\n",
       "  is_pileup  pulse_index  \n",
       "0     False            0  \n",
       "1     False            1  \n",
       "2     False            2  \n",
       "3      True            2  \n",
       "4      True            2  \n",
       "5     False            5  \n",
       "6     False            6  \n",
       "7     False            7  \n",
       "8     False            8  \n",
       "9     False            9  "
      ]
     },
     "execution_count": 18,
     "metadata": {},
     "output_type": "execute_result"
    }
   ],
   "source": [
    "calo00 = calo00.drop(['index','index_previous'],1)\n",
    "calo00.head(10)"
   ]
  },
  {
   "cell_type": "markdown",
   "metadata": {
    "deletable": true,
    "editable": true
   },
   "source": [
    "# 3. Now it's analysis time!"
   ]
  },
  {
   "cell_type": "markdown",
   "metadata": {
    "deletable": true,
    "editable": true
   },
   "source": [
    "# 3.1 Let's group the data using pulse_index"
   ]
  },
  {
   "cell_type": "code",
   "execution_count": 19,
   "metadata": {
    "collapsed": false,
    "deletable": true,
    "editable": true
   },
   "outputs": [
    {
     "data": {
      "text/html": [
       "<div>\n",
       "<table border=\"1\" class=\"dataframe\">\n",
       "  <thead>\n",
       "    <tr style=\"text-align: right;\">\n",
       "      <th></th>\n",
       "      <th>time_mean</th>\n",
       "      <th>e_sum</th>\n",
       "    </tr>\n",
       "    <tr>\n",
       "      <th>pulse_index</th>\n",
       "      <th></th>\n",
       "      <th></th>\n",
       "    </tr>\n",
       "  </thead>\n",
       "  <tbody>\n",
       "    <tr>\n",
       "      <th>0</th>\n",
       "      <td>115.871234</td>\n",
       "      <td>293.399686</td>\n",
       "    </tr>\n",
       "    <tr>\n",
       "      <th>1</th>\n",
       "      <td>122.548781</td>\n",
       "      <td>858.783237</td>\n",
       "    </tr>\n",
       "    <tr>\n",
       "      <th>2</th>\n",
       "      <td>188.469866</td>\n",
       "      <td>2663.227779</td>\n",
       "    </tr>\n",
       "    <tr>\n",
       "      <th>5</th>\n",
       "      <td>195.316774</td>\n",
       "      <td>1053.989131</td>\n",
       "    </tr>\n",
       "    <tr>\n",
       "      <th>6</th>\n",
       "      <td>208.369221</td>\n",
       "      <td>1119.362785</td>\n",
       "    </tr>\n",
       "  </tbody>\n",
       "</table>\n",
       "</div>"
      ],
      "text/plain": [
       "              time_mean        e_sum\n",
       "pulse_index                         \n",
       "0            115.871234   293.399686\n",
       "1            122.548781   858.783237\n",
       "2            188.469866  2663.227779\n",
       "5            195.316774  1053.989131\n",
       "6            208.369221  1119.362785"
      ]
     },
     "execution_count": 19,
     "metadata": {},
     "output_type": "execute_result"
    }
   ],
   "source": [
    "calo00_bypulse_sum = calo00.groupby(['pulse_index']).sum() ## we need e_sum \n",
    "calo00_bypulse_mean = calo00.groupby(['pulse_index']).mean() ## we use time_mean for now\n",
    "calo00_bypulse_mean['e_sum']=calo00_bypulse_sum['e_truth'] \n",
    "calo00_bypulse = calo00_bypulse_mean.drop(['e_dep','e_truth','time_hit','dt_next','dt_previous','is_pileup'],1)\n",
    "calo00_bypulse=calo00_bypulse.rename(columns = {'time_truth':'time_mean'})\n",
    "calo00_bypulse.head()"
   ]
  },
  {
   "cell_type": "markdown",
   "metadata": {
    "deletable": true,
    "editable": true
   },
   "source": [
    "## 3.1 Then plot the pileup cluster energy"
   ]
  },
  {
   "cell_type": "code",
   "execution_count": 20,
   "metadata": {
    "collapsed": false,
    "deletable": true,
    "editable": true
   },
   "outputs": [
    {
     "data": {
      "text/plain": [
       "array([[<matplotlib.axes._subplots.AxesSubplot object at 0x12cc23a10>]], dtype=object)"
      ]
     },
     "execution_count": 20,
     "metadata": {},
     "output_type": "execute_result"
    },
    {
     "data": {
      "image/png": "[encoded data removed]",
      "text/plain": [
       "<matplotlib.figure.Figure at 0x1150627d0>"
      ]
     },
     "metadata": {},
     "output_type": "display_data"
    }
   ],
   "source": [
    "calo00_bypulse.hist('e_sum',bins=100,color='blue',histtype='step', lw=2)"
   ]
  },
  {
   "cell_type": "markdown",
   "metadata": {},
   "source": [
    "## 3.2 Cluster energy (no pileup versus pileup)"
   ]
  },
  {
   "cell_type": "code",
   "execution_count": 21,
   "metadata": {
    "collapsed": false,
    "deletable": true,
    "editable": true
   },
   "outputs": [
    {
     "data": {
      "text/plain": [
       "<matplotlib.legend.Legend at 0x12cc6b490>"
      ]
     },
     "execution_count": 21,
     "metadata": {},
     "output_type": "execute_result"
    },
    {
     "data": {
      "image/png": "[encoded data removed]",
      "text/plain": [
       "<matplotlib.figure.Figure at 0x12cc6b0d0>"
      ]
     },
     "metadata": {},
     "output_type": "display_data"
    }
   ],
   "source": [
    "fig, ax = plt.subplots()\n",
    "calo00_bypulse.hist('e_sum',bins=100, range=[0,6000],color='blue', histtype='step', lw=2,ax=ax)\n",
    "calo00.hist('e_truth',bins=100,range=[0,6000],color='red',histtype='step', lw=2,ax=ax)\n",
    "ax.legend(['pileup','truth'],loc='upper right')"
   ]
  },
  {
   "cell_type": "markdown",
   "metadata": {},
   "source": [
    "## 3.3 Cluster time"
   ]
  },
  {
   "cell_type": "code",
   "execution_count": 22,
   "metadata": {
    "collapsed": false
   },
   "outputs": [
    {
     "data": {
      "text/plain": [
       "array([[<matplotlib.axes._subplots.AxesSubplot object at 0x12cd7c350>]], dtype=object)"
      ]
     },
     "execution_count": 22,
     "metadata": {},
     "output_type": "execute_result"
    },
    {
     "data": {
      "image/png": "[encoded data removed]",
      "text/plain": [
       "<matplotlib.figure.Figure at 0x12cc6bb50>"
      ]
     },
     "metadata": {},
     "output_type": "display_data"
    }
   ],
   "source": [
    "calo00_bypulse.hist('time_mean',bins=100,range=[0,100000],color='blue',histtype='step', lw=2)"
   ]
  },
  {
   "cell_type": "code",
   "execution_count": 23,
   "metadata": {
    "collapsed": false
   },
   "outputs": [
    {
     "data": {
      "text/plain": [
       "array([[<matplotlib.axes._subplots.AxesSubplot object at 0x114ee5bd0>]], dtype=object)"
      ]
     },
     "execution_count": 23,
     "metadata": {},
     "output_type": "execute_result"
    },
    {
     "data": {
      "image/png": "[encoded data removed]",
      "text/plain": [
       "<matplotlib.figure.Figure at 0x12ce160d0>"
      ]
     },
     "metadata": {},
     "output_type": "display_data"
    }
   ],
   "source": [
    "calo00.hist('time_truth',bins=100,range=[0,100000],color='red',histtype='step', lw=2)"
   ]
  },
  {
   "cell_type": "code",
   "execution_count": 24,
   "metadata": {
    "collapsed": false
   },
   "outputs": [
    {
     "data": {
      "text/plain": [
       "<matplotlib.legend.Legend at 0x12ccc2e50>"
      ]
     },
     "execution_count": 24,
     "metadata": {},
     "output_type": "execute_result"
    },
    {
     "data": {
      "image/png": "[encoded data removed]",
      "text/plain": [
       "<matplotlib.figure.Figure at 0x12ccc21d0>"
      ]
     },
     "metadata": {},
     "output_type": "display_data"
    }
   ],
   "source": [
    "fig, ax = plt.subplots()\n",
    "calo00.hist('time_truth',bins=100,range=[0,100000],ax=ax,color='red',histtype='step', lw=2)\n",
    "calo00_bypulse.hist('time_mean',bins=100,range=[0,100000],color='blue',ax=ax,histtype='step', lw=2)\n",
    "ax.legend(['pileup','truth'],loc='upper right')"
   ]
  },
  {
   "cell_type": "markdown",
   "metadata": {},
   "source": [
    "## 3.4 T-method histogram"
   ]
  },
  {
   "cell_type": "code",
   "execution_count": 25,
   "metadata": {
    "collapsed": false
   },
   "outputs": [],
   "source": [
    "calo00_T = calo00[calo00.e_truth>1800]\n",
    "calo00_bypulse_T = calo00_bypulse[calo00_bypulse.e_sum>1800]"
   ]
  },
  {
   "cell_type": "code",
   "execution_count": 26,
   "metadata": {
    "collapsed": false
   },
   "outputs": [
    {
     "data": {
      "text/plain": [
       "array([[<matplotlib.axes._subplots.AxesSubplot object at 0x12cfc2550>]], dtype=object)"
      ]
     },
     "execution_count": 26,
     "metadata": {},
     "output_type": "execute_result"
    },
    {
     "data": {
      "image/png": "[encoded data removed]",
      "text/plain": [
       "<matplotlib.figure.Figure at 0x12d0dbbd0>"
      ]
     },
     "metadata": {},
     "output_type": "display_data"
    }
   ],
   "source": [
    "calo00_T.hist('time_truth',bins=100,color='red',histtype='step', lw=2,range=[0,100000])"
   ]
  },
  {
   "cell_type": "code",
   "execution_count": 27,
   "metadata": {
    "collapsed": false
   },
   "outputs": [
    {
     "data": {
      "text/plain": [
       "array([[<matplotlib.axes._subplots.AxesSubplot object at 0x12d24a650>]], dtype=object)"
      ]
     },
     "execution_count": 27,
     "metadata": {},
     "output_type": "execute_result"
    },
    {
     "data": {
      "image/png": "[encoded data removed]",
      "text/plain": [
       "<matplotlib.figure.Figure at 0x12cdf1ed0>"
      ]
     },
     "metadata": {},
     "output_type": "display_data"
    }
   ],
   "source": [
    "calo00_bypulse_T.hist('time_mean',bins=100,range=[0,100000],histtype='step', lw=2,color='blue')"
   ]
  },
  {
   "cell_type": "code",
   "execution_count": 28,
   "metadata": {
    "collapsed": false
   },
   "outputs": [
    {
     "data": {
      "text/plain": [
       "<matplotlib.legend.Legend at 0x12d292c50>"
      ]
     },
     "execution_count": 28,
     "metadata": {},
     "output_type": "execute_result"
    },
    {
     "data": {
      "image/png": "[encoded data removed]",
      "text/plain": [
       "<matplotlib.figure.Figure at 0x12d292b10>"
      ]
     },
     "metadata": {},
     "output_type": "display_data"
    }
   ],
   "source": [
    "fig, ax = plt.subplots()\n",
    "calo00_T.hist('time_truth',bins=100,range=[0,200000],color='red',histtype='step', lw=2,ax=ax)\n",
    "calo00_bypulse_T.hist('time_mean',bins=100,range=[0,200000],histtype='step', lw=2,color='blue',ax=ax)\n",
    "ax.legend(['pileup','truth'],loc='upper right')"
   ]
  },
  {
   "cell_type": "code",
   "execution_count": null,
   "metadata": {
    "collapsed": true
   },
   "outputs": [],
   "source": []
  }
 ],
 "metadata": {
  "kernelspec": {
   "display_name": "Python 2",
   "language": "python",
   "name": "python2"
  },
  "language_info": {
   "codemirror_mode": {
    "name": "ipython",
    "version": 2
   },
   "file_extension": ".py",
   "mimetype": "text/x-python",
   "name": "python",
   "nbconvert_exporter": "python",
   "pygments_lexer": "ipython2",
   "version": "2.7.13"
  }
 },
 "nbformat": 4,
 "nbformat_minor": 2
}
