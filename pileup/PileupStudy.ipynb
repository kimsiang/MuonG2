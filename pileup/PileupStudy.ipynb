{
 "cells": [
  {
   "cell_type": "markdown",
   "metadata": {},
   "source": [
    "# A notebook for pileup study"
   ]
  },
  {
   "cell_type": "code",
   "execution_count": 1,
   "metadata": {
    "collapsed": false
   },
   "outputs": [
    {
     "data": {
      "application/javascript": [
       "\n",
       "require(['notebook'],\n",
       "  function() {\n",
       "    IPython.CodeCell.config_defaults.highlight_modes['magic_text/x-c++src'] = {'reg':[/^%%cpp/]};\n",
       "    console.log(\"JupyROOT - %%cpp magic configured\");\n",
       "  }\n",
       ");\n"
      ]
     },
     "metadata": {},
     "output_type": "display_data"
    },
    {
     "name": "stdout",
     "output_type": "stream",
     "text": [
      "Welcome to JupyROOT 6.08/04\n"
     ]
    }
   ],
   "source": [
    "import ROOT\n",
    "f = ROOT.TFile('PileupAnalyzer.root')\n",
    "folder_name = 'pileupAnalyzer'\n",
    "c = ROOT.TCanvas('canv', 'canv', 600, 400)\n",
    "leg = ROOT.TLegend(0.7,0.7,0.9,0.9)\n",
    "ROOT.gStyle.SetOptStat(0)"
   ]
  },
  {
   "cell_type": "markdown",
   "metadata": {},
   "source": [
    "# 1. First part is for sanity check\n",
    "\n",
    "Here we are looking at the energy of the decay positron, energy of the gamma from radiative decay and the energy deposition"
   ]
  },
  {
   "cell_type": "code",
   "execution_count": 2,
   "metadata": {
    "collapsed": false
   },
   "outputs": [],
   "source": [
    "ePrimary = f.Get('{}/ePrimary'.format(folder_name))\n",
    "eGammaPrimary = f.Get('{}/eGammaPrimary'.format(folder_name))\n",
    "eDep = f.Get('{}/eDep'.format(folder_name))\n",
    "tree = f.Get('{}/tree'.format(folder_name))"
   ]
  },
  {
   "cell_type": "code",
   "execution_count": 3,
   "metadata": {
    "collapsed": false
   },
   "outputs": [],
   "source": [
    "def draw_both():\n",
    "    ePrimary.Draw()\n",
    "    eGammaPrimary.Draw(\"sames\")\n",
    "    eDep.Draw(\"sames\")\n",
    "    c.Draw()"
   ]
  },
  {
   "cell_type": "code",
   "execution_count": 4,
   "metadata": {
    "collapsed": true
   },
   "outputs": [],
   "source": [
    "def set_style():\n",
    "    ePrimary.SetLineColor(1)\n",
    "    eGammaPrimary.SetLineColor(2)\n",
    "    eDep.SetLineColor(4)"
   ]
  },
  {
   "cell_type": "code",
   "execution_count": 5,
   "metadata": {
    "collapsed": true
   },
   "outputs": [],
   "source": [
    "def draw_legend():\n",
    "    leg.AddEntry(ePrimary,ePrimary.GetName(),\"l\")\n",
    "    leg.AddEntry(eGammaPrimary,eGammaPrimary.GetName(),\"l\")\n",
    "    leg.AddEntry(eDep,eDep.GetName(),\"l\")\n",
    "    leg.Draw()"
   ]
  },
  {
   "cell_type": "code",
   "execution_count": 6,
   "metadata": {
    "collapsed": false,
    "scrolled": false
   },
   "outputs": [
    {
     "data": {
      "image/png": "[encoded data removed]",
      "text/plain": [
       "<IPython.core.display.Image object>"
      ]
     },
     "metadata": {},
     "output_type": "display_data"
    }
   ],
   "source": [
    "set_style()\n",
    "draw_both()\n",
    "draw_legend()"
   ]
  },
  {
   "cell_type": "markdown",
   "metadata": {},
   "source": [
    "# 2. Now let's try to use pandas to analyze our data for pileup"
   ]
  },
  {
   "cell_type": "code",
   "execution_count": 7,
   "metadata": {
    "collapsed": false,
    "scrolled": false
   },
   "outputs": [],
   "source": [
    "%matplotlib inline\n",
    "import seaborn as sns\n",
    "import numpy as np\n",
    "import pandas as pd\n",
    "import matplotlib.pyplot as plt\n",
    "plt.rcParams['figure.figsize'] = 10, 8 # sets default plot size"
   ]
  },
  {
   "cell_type": "code",
   "execution_count": 8,
   "metadata": {
    "collapsed": false
   },
   "outputs": [
    {
     "data": {
      "text/html": [
       "<div style=\"max-height:1000px;max-width:1500px;overflow:auto;\">\n",
       "<table border=\"1\" class=\"dataframe\">\n",
       "  <thead>\n",
       "    <tr style=\"text-align: right;\">\n",
       "      <th></th>\n",
       "      <th>e_truth</th>\n",
       "      <th>e_dep</th>\n",
       "      <th>time_truth</th>\n",
       "      <th>time_hit</th>\n",
       "      <th>calo_num</th>\n",
       "    </tr>\n",
       "  </thead>\n",
       "  <tbody>\n",
       "    <tr>\n",
       "      <th>0</th>\n",
       "      <td>  233.450529</td>\n",
       "      <td> 220.973088</td>\n",
       "      <td>  2597.835227</td>\n",
       "      <td> 2599.191650</td>\n",
       "      <td>  1</td>\n",
       "    </tr>\n",
       "    <tr>\n",
       "      <th>1</th>\n",
       "      <td> 1105.812331</td>\n",
       "      <td> 288.984265</td>\n",
       "      <td>  8286.316566</td>\n",
       "      <td> 8306.015625</td>\n",
       "      <td> 21</td>\n",
       "    </tr>\n",
       "    <tr>\n",
       "      <th>2</th>\n",
       "      <td>  827.560053</td>\n",
       "      <td> 796.611667</td>\n",
       "      <td>  9322.758446</td>\n",
       "      <td> 9326.403320</td>\n",
       "      <td>  2</td>\n",
       "    </tr>\n",
       "    <tr>\n",
       "      <th>3</th>\n",
       "      <td>  277.998508</td>\n",
       "      <td>   0.000000</td>\n",
       "      <td>  5326.117760</td>\n",
       "      <td>   -1.000000</td>\n",
       "      <td> -1</td>\n",
       "    </tr>\n",
       "    <tr>\n",
       "      <th>4</th>\n",
       "      <td>  131.867443</td>\n",
       "      <td>   0.000000</td>\n",
       "      <td> 70378.807908</td>\n",
       "      <td>   -1.000000</td>\n",
       "      <td> -1</td>\n",
       "    </tr>\n",
       "  </tbody>\n",
       "</table>\n",
       "</div>"
      ],
      "text/plain": [
       "       e_truth       e_dep    time_truth     time_hit  calo_num\n",
       "0   233.450529  220.973088   2597.835227  2599.191650         1\n",
       "1  1105.812331  288.984265   8286.316566  8306.015625        21\n",
       "2   827.560053  796.611667   9322.758446  9326.403320         2\n",
       "3   277.998508    0.000000   5326.117760    -1.000000        -1\n",
       "4   131.867443    0.000000  70378.807908    -1.000000        -1"
      ]
     },
     "execution_count": 8,
     "metadata": {},
     "output_type": "execute_result"
    }
   ],
   "source": [
    "data_rows = []\n",
    "for entry in tree:\n",
    "    data_rows.append([entry.eTruth, entry.eDep, entry.timeTruth,\n",
    "                                          entry.timeHit, entry.caloNum])\n",
    "# create the analysis DataFrame\n",
    "df = pd.DataFrame(data_rows, columns=['e_truth', 'e_dep', 'time_truth', 'time_hit', 'calo_num'])\n",
    "df.head()"
   ]
  },
  {
   "cell_type": "markdown",
   "metadata": {},
   "source": [
    "## Let's look at the histograms"
   ]
  },
  {
   "cell_type": "code",
   "execution_count": 9,
   "metadata": {
    "collapsed": false
   },
   "outputs": [
    {
     "data": {
      "text/plain": [
       "array([[<matplotlib.axes._subplots.AxesSubplot object at 0x122283f50>,\n",
       "        <matplotlib.axes._subplots.AxesSubplot object at 0x125143d10>],\n",
       "       [<matplotlib.axes._subplots.AxesSubplot object at 0x1251ba610>,\n",
       "        <matplotlib.axes._subplots.AxesSubplot object at 0x12523cb90>]], dtype=object)"
      ]
     },
     "execution_count": 9,
     "metadata": {},
     "output_type": "execute_result"
    },
    {
     "data": {
      "image/png": "[encoded data removed]",
      "text/plain": [
       "<matplotlib.figure.Figure at 0x122283050>"
      ]
     },
     "metadata": {},
     "output_type": "display_data"
    }
   ],
   "source": [
    "df.hist(['e_truth','e_dep','time_truth','time_hit'],bins=50)"
   ]
  },
  {
   "cell_type": "markdown",
   "metadata": {},
   "source": [
    "## 2.1 remove events with no hits and sort the rest according to calo_num and time_truth"
   ]
  },
  {
   "cell_type": "code",
   "execution_count": 10,
   "metadata": {
    "collapsed": false
   },
   "outputs": [
    {
     "data": {
      "text/html": [
       "<div style=\"max-height:1000px;max-width:1500px;overflow:auto;\">\n",
       "<table border=\"1\" class=\"dataframe\">\n",
       "  <thead>\n",
       "    <tr style=\"text-align: right;\">\n",
       "      <th></th>\n",
       "      <th>e_truth</th>\n",
       "      <th>e_dep</th>\n",
       "      <th>time_hit</th>\n",
       "      <th>calo_num</th>\n",
       "    </tr>\n",
       "    <tr>\n",
       "      <th>time_truth</th>\n",
       "      <th></th>\n",
       "      <th></th>\n",
       "      <th></th>\n",
       "      <th></th>\n",
       "    </tr>\n",
       "  </thead>\n",
       "  <tbody>\n",
       "    <tr>\n",
       "      <th>18.928585</th>\n",
       "      <td>  544.179231</td>\n",
       "      <td>  523.872094</td>\n",
       "      <td>  21.664135</td>\n",
       "      <td>  1</td>\n",
       "    </tr>\n",
       "    <tr>\n",
       "      <th>25.730252</th>\n",
       "      <td>  767.474814</td>\n",
       "      <td>  229.575367</td>\n",
       "      <td>  53.260315</td>\n",
       "      <td>  4</td>\n",
       "    </tr>\n",
       "    <tr>\n",
       "      <th>49.433663</th>\n",
       "      <td>  666.124374</td>\n",
       "      <td>  628.990254</td>\n",
       "      <td>  51.798515</td>\n",
       "      <td>  6</td>\n",
       "    </tr>\n",
       "    <tr>\n",
       "      <th>51.456642</th>\n",
       "      <td>  563.004437</td>\n",
       "      <td>    1.044049</td>\n",
       "      <td>  55.900242</td>\n",
       "      <td>  7</td>\n",
       "    </tr>\n",
       "    <tr>\n",
       "      <th>67.520473</th>\n",
       "      <td> 1259.615167</td>\n",
       "      <td> 1119.586426</td>\n",
       "      <td>  75.755302</td>\n",
       "      <td>  9</td>\n",
       "    </tr>\n",
       "    <tr>\n",
       "      <th>68.122807</th>\n",
       "      <td>  331.173368</td>\n",
       "      <td>  297.931112</td>\n",
       "      <td>  69.941299</td>\n",
       "      <td>  7</td>\n",
       "    </tr>\n",
       "    <tr>\n",
       "      <th>71.257784</th>\n",
       "      <td>  428.739894</td>\n",
       "      <td>    1.475145</td>\n",
       "      <td>  75.576500</td>\n",
       "      <td>  8</td>\n",
       "    </tr>\n",
       "    <tr>\n",
       "      <th>77.033643</th>\n",
       "      <td> 1467.577987</td>\n",
       "      <td>   23.391676</td>\n",
       "      <td>  97.857872</td>\n",
       "      <td>  7</td>\n",
       "    </tr>\n",
       "    <tr>\n",
       "      <th>79.062586</th>\n",
       "      <td>  126.060286</td>\n",
       "      <td>    3.463693</td>\n",
       "      <td>  82.123634</td>\n",
       "      <td>  1</td>\n",
       "    </tr>\n",
       "    <tr>\n",
       "      <th>81.142665</th>\n",
       "      <td> 1127.235896</td>\n",
       "      <td> 1053.825001</td>\n",
       "      <td>  85.762077</td>\n",
       "      <td>  3</td>\n",
       "    </tr>\n",
       "    <tr>\n",
       "      <th>82.383456</th>\n",
       "      <td> 1048.564148</td>\n",
       "      <td>  879.900711</td>\n",
       "      <td>  86.881310</td>\n",
       "      <td>  9</td>\n",
       "    </tr>\n",
       "    <tr>\n",
       "      <th>83.411996</th>\n",
       "      <td> 1848.583828</td>\n",
       "      <td> 1743.872733</td>\n",
       "      <td>  91.211403</td>\n",
       "      <td>  9</td>\n",
       "    </tr>\n",
       "    <tr>\n",
       "      <th>87.789429</th>\n",
       "      <td>  589.396529</td>\n",
       "      <td>  524.735882</td>\n",
       "      <td>  90.782448</td>\n",
       "      <td>  3</td>\n",
       "    </tr>\n",
       "    <tr>\n",
       "      <th>87.797293</th>\n",
       "      <td> 2124.588282</td>\n",
       "      <td>  339.473637</td>\n",
       "      <td> 110.653465</td>\n",
       "      <td> 14</td>\n",
       "    </tr>\n",
       "    <tr>\n",
       "      <th>89.063201</th>\n",
       "      <td> 1048.461893</td>\n",
       "      <td> 1001.938198</td>\n",
       "      <td>  93.015251</td>\n",
       "      <td> 12</td>\n",
       "    </tr>\n",
       "  </tbody>\n",
       "</table>\n",
       "</div>"
      ],
      "text/plain": [
       "                e_truth        e_dep    time_hit  calo_num\n",
       "time_truth                                                \n",
       "18.928585    544.179231   523.872094   21.664135         1\n",
       "25.730252    767.474814   229.575367   53.260315         4\n",
       "49.433663    666.124374   628.990254   51.798515         6\n",
       "51.456642    563.004437     1.044049   55.900242         7\n",
       "67.520473   1259.615167  1119.586426   75.755302         9\n",
       "68.122807    331.173368   297.931112   69.941299         7\n",
       "71.257784    428.739894     1.475145   75.576500         8\n",
       "77.033643   1467.577987    23.391676   97.857872         7\n",
       "79.062586    126.060286     3.463693   82.123634         1\n",
       "81.142665   1127.235896  1053.825001   85.762077         3\n",
       "82.383456   1048.564148   879.900711   86.881310         9\n",
       "83.411996   1848.583828  1743.872733   91.211403         9\n",
       "87.789429    589.396529   524.735882   90.782448         3\n",
       "87.797293   2124.588282   339.473637  110.653465        14\n",
       "89.063201   1048.461893  1001.938198   93.015251        12"
      ]
     },
     "execution_count": 10,
     "metadata": {},
     "output_type": "execute_result"
    }
   ],
   "source": [
    "df = df[df.calo_num>-1]\n",
    "series=df.groupby(['time_truth']).mean()\n",
    "series.head(15)"
   ]
  },
  {
   "cell_type": "markdown",
   "metadata": {},
   "source": [
    "## 2.2 Add another column showing the dt between this event and the event before"
   ]
  },
  {
   "cell_type": "code",
   "execution_count": 11,
   "metadata": {
    "collapsed": false
   },
   "outputs": [
    {
     "data": {
      "text/html": [
       "<div style=\"max-height:1000px;max-width:1500px;overflow:auto;\">\n",
       "<table border=\"1\" class=\"dataframe\">\n",
       "  <thead>\n",
       "    <tr style=\"text-align: right;\">\n",
       "      <th></th>\n",
       "      <th>e_truth</th>\n",
       "      <th>e_dep</th>\n",
       "      <th>time_hit</th>\n",
       "      <th>calo_num</th>\n",
       "      <th>dt</th>\n",
       "    </tr>\n",
       "    <tr>\n",
       "      <th>time_truth</th>\n",
       "      <th></th>\n",
       "      <th></th>\n",
       "      <th></th>\n",
       "      <th></th>\n",
       "      <th></th>\n",
       "    </tr>\n",
       "  </thead>\n",
       "  <tbody>\n",
       "    <tr>\n",
       "      <th>18.928585</th>\n",
       "      <td>  544.179231</td>\n",
       "      <td>  523.872094</td>\n",
       "      <td>  21.664135</td>\n",
       "      <td>  1</td>\n",
       "      <td>       NaN</td>\n",
       "    </tr>\n",
       "    <tr>\n",
       "      <th>25.730252</th>\n",
       "      <td>  767.474814</td>\n",
       "      <td>  229.575367</td>\n",
       "      <td>  53.260315</td>\n",
       "      <td>  4</td>\n",
       "      <td> 31.596180</td>\n",
       "    </tr>\n",
       "    <tr>\n",
       "      <th>49.433663</th>\n",
       "      <td>  666.124374</td>\n",
       "      <td>  628.990254</td>\n",
       "      <td>  51.798515</td>\n",
       "      <td>  6</td>\n",
       "      <td> -1.461800</td>\n",
       "    </tr>\n",
       "    <tr>\n",
       "      <th>51.456642</th>\n",
       "      <td>  563.004437</td>\n",
       "      <td>    1.044049</td>\n",
       "      <td>  55.900242</td>\n",
       "      <td>  7</td>\n",
       "      <td>  4.101727</td>\n",
       "    </tr>\n",
       "    <tr>\n",
       "      <th>67.520473</th>\n",
       "      <td> 1259.615167</td>\n",
       "      <td> 1119.586426</td>\n",
       "      <td>  75.755302</td>\n",
       "      <td>  9</td>\n",
       "      <td> 19.855061</td>\n",
       "    </tr>\n",
       "    <tr>\n",
       "      <th>68.122807</th>\n",
       "      <td>  331.173368</td>\n",
       "      <td>  297.931112</td>\n",
       "      <td>  69.941299</td>\n",
       "      <td>  7</td>\n",
       "      <td> -5.814003</td>\n",
       "    </tr>\n",
       "    <tr>\n",
       "      <th>71.257784</th>\n",
       "      <td>  428.739894</td>\n",
       "      <td>    1.475145</td>\n",
       "      <td>  75.576500</td>\n",
       "      <td>  8</td>\n",
       "      <td>  5.635201</td>\n",
       "    </tr>\n",
       "    <tr>\n",
       "      <th>77.033643</th>\n",
       "      <td> 1467.577987</td>\n",
       "      <td>   23.391676</td>\n",
       "      <td>  97.857872</td>\n",
       "      <td>  7</td>\n",
       "      <td> 22.281372</td>\n",
       "    </tr>\n",
       "    <tr>\n",
       "      <th>79.062586</th>\n",
       "      <td>  126.060286</td>\n",
       "      <td>    3.463693</td>\n",
       "      <td>  82.123634</td>\n",
       "      <td>  1</td>\n",
       "      <td>-15.734238</td>\n",
       "    </tr>\n",
       "    <tr>\n",
       "      <th>81.142665</th>\n",
       "      <td> 1127.235896</td>\n",
       "      <td> 1053.825001</td>\n",
       "      <td>  85.762077</td>\n",
       "      <td>  3</td>\n",
       "      <td>  3.638443</td>\n",
       "    </tr>\n",
       "    <tr>\n",
       "      <th>82.383456</th>\n",
       "      <td> 1048.564148</td>\n",
       "      <td>  879.900711</td>\n",
       "      <td>  86.881310</td>\n",
       "      <td>  9</td>\n",
       "      <td>  1.119232</td>\n",
       "    </tr>\n",
       "    <tr>\n",
       "      <th>83.411996</th>\n",
       "      <td> 1848.583828</td>\n",
       "      <td> 1743.872733</td>\n",
       "      <td>  91.211403</td>\n",
       "      <td>  9</td>\n",
       "      <td>  4.330093</td>\n",
       "    </tr>\n",
       "    <tr>\n",
       "      <th>87.789429</th>\n",
       "      <td>  589.396529</td>\n",
       "      <td>  524.735882</td>\n",
       "      <td>  90.782448</td>\n",
       "      <td>  3</td>\n",
       "      <td> -0.428955</td>\n",
       "    </tr>\n",
       "    <tr>\n",
       "      <th>87.797293</th>\n",
       "      <td> 2124.588282</td>\n",
       "      <td>  339.473637</td>\n",
       "      <td> 110.653465</td>\n",
       "      <td> 14</td>\n",
       "      <td> 19.871017</td>\n",
       "    </tr>\n",
       "    <tr>\n",
       "      <th>89.063201</th>\n",
       "      <td> 1048.461893</td>\n",
       "      <td> 1001.938198</td>\n",
       "      <td>  93.015251</td>\n",
       "      <td> 12</td>\n",
       "      <td>-17.638214</td>\n",
       "    </tr>\n",
       "  </tbody>\n",
       "</table>\n",
       "</div>"
      ],
      "text/plain": [
       "                e_truth        e_dep    time_hit  calo_num         dt\n",
       "time_truth                                                           \n",
       "18.928585    544.179231   523.872094   21.664135         1        NaN\n",
       "25.730252    767.474814   229.575367   53.260315         4  31.596180\n",
       "49.433663    666.124374   628.990254   51.798515         6  -1.461800\n",
       "51.456642    563.004437     1.044049   55.900242         7   4.101727\n",
       "67.520473   1259.615167  1119.586426   75.755302         9  19.855061\n",
       "68.122807    331.173368   297.931112   69.941299         7  -5.814003\n",
       "71.257784    428.739894     1.475145   75.576500         8   5.635201\n",
       "77.033643   1467.577987    23.391676   97.857872         7  22.281372\n",
       "79.062586    126.060286     3.463693   82.123634         1 -15.734238\n",
       "81.142665   1127.235896  1053.825001   85.762077         3   3.638443\n",
       "82.383456   1048.564148   879.900711   86.881310         9   1.119232\n",
       "83.411996   1848.583828  1743.872733   91.211403         9   4.330093\n",
       "87.789429    589.396529   524.735882   90.782448         3  -0.428955\n",
       "87.797293   2124.588282   339.473637  110.653465        14  19.871017\n",
       "89.063201   1048.461893  1001.938198   93.015251        12 -17.638214"
      ]
     },
     "execution_count": 11,
     "metadata": {},
     "output_type": "execute_result"
    }
   ],
   "source": [
    "series[\"dt\"] = series['time_hit'].diff(1)\n",
    "series.head(15)"
   ]
  },
  {
   "cell_type": "markdown",
   "metadata": {},
   "source": [
    "## 2.3 Let's look at only calo 00"
   ]
  },
  {
   "cell_type": "code",
   "execution_count": 12,
   "metadata": {
    "collapsed": false
   },
   "outputs": [
    {
     "data": {
      "text/html": [
       "<div style=\"max-height:1000px;max-width:1500px;overflow:auto;\">\n",
       "<table border=\"1\" class=\"dataframe\">\n",
       "  <thead>\n",
       "    <tr style=\"text-align: right;\">\n",
       "      <th></th>\n",
       "      <th></th>\n",
       "      <th>e_truth</th>\n",
       "      <th>e_dep</th>\n",
       "      <th>time_hit</th>\n",
       "      <th>dt</th>\n",
       "    </tr>\n",
       "    <tr>\n",
       "      <th>calo_num</th>\n",
       "      <th>time_truth</th>\n",
       "      <th></th>\n",
       "      <th></th>\n",
       "      <th></th>\n",
       "      <th></th>\n",
       "    </tr>\n",
       "  </thead>\n",
       "  <tbody>\n",
       "    <tr>\n",
       "      <th rowspan=\"15\" valign=\"top\">0</th>\n",
       "      <th>115.871234</th>\n",
       "      <td>  293.399686</td>\n",
       "      <td>  125.575507</td>\n",
       "      <td> 118.182472</td>\n",
       "      <td>        NaN</td>\n",
       "    </tr>\n",
       "    <tr>\n",
       "      <th>122.548781</th>\n",
       "      <td>  858.783237</td>\n",
       "      <td>  769.521276</td>\n",
       "      <td> 126.320602</td>\n",
       "      <td>   8.138130</td>\n",
       "    </tr>\n",
       "    <tr>\n",
       "      <th>186.342021</th>\n",
       "      <td> 1436.879928</td>\n",
       "      <td> 1325.108935</td>\n",
       "      <td> 190.300842</td>\n",
       "      <td>  63.980240</td>\n",
       "    </tr>\n",
       "    <tr>\n",
       "      <th>188.854145</th>\n",
       "      <td>  791.989991</td>\n",
       "      <td>  763.625368</td>\n",
       "      <td> 192.108627</td>\n",
       "      <td>   1.807785</td>\n",
       "    </tr>\n",
       "    <tr>\n",
       "      <th>190.213433</th>\n",
       "      <td>  434.357860</td>\n",
       "      <td>  414.831847</td>\n",
       "      <td> 191.589844</td>\n",
       "      <td>  -0.518784</td>\n",
       "    </tr>\n",
       "    <tr>\n",
       "      <th>195.316774</th>\n",
       "      <td> 1053.989131</td>\n",
       "      <td>  274.225989</td>\n",
       "      <td> 214.105499</td>\n",
       "      <td>  22.515656</td>\n",
       "    </tr>\n",
       "    <tr>\n",
       "      <th>208.369221</th>\n",
       "      <td> 1119.362785</td>\n",
       "      <td>  617.859847</td>\n",
       "      <td> 217.130219</td>\n",
       "      <td>   3.024719</td>\n",
       "    </tr>\n",
       "    <tr>\n",
       "      <th>218.663106</th>\n",
       "      <td>  555.463273</td>\n",
       "      <td>  536.268886</td>\n",
       "      <td> 221.481232</td>\n",
       "      <td>   4.351013</td>\n",
       "    </tr>\n",
       "    <tr>\n",
       "      <th>250.116720</th>\n",
       "      <td>  139.261601</td>\n",
       "      <td>    2.107877</td>\n",
       "      <td> 298.500061</td>\n",
       "      <td>  77.018829</td>\n",
       "    </tr>\n",
       "    <tr>\n",
       "      <th>263.774723</th>\n",
       "      <td>  267.584581</td>\n",
       "      <td>   71.072469</td>\n",
       "      <td> 264.932587</td>\n",
       "      <td> -33.567474</td>\n",
       "    </tr>\n",
       "    <tr>\n",
       "      <th>367.221200</th>\n",
       "      <td> 1502.784934</td>\n",
       "      <td>  190.877988</td>\n",
       "      <td> 375.791779</td>\n",
       "      <td> 110.859192</td>\n",
       "    </tr>\n",
       "    <tr>\n",
       "      <th>371.630884</th>\n",
       "      <td>  538.717158</td>\n",
       "      <td>    0.144824</td>\n",
       "      <td> 378.135406</td>\n",
       "      <td>   2.343628</td>\n",
       "    </tr>\n",
       "    <tr>\n",
       "      <th>402.109499</th>\n",
       "      <td> 1250.698656</td>\n",
       "      <td>    0.110138</td>\n",
       "      <td> 408.305115</td>\n",
       "      <td>  30.169708</td>\n",
       "    </tr>\n",
       "    <tr>\n",
       "      <th>416.852038</th>\n",
       "      <td> 1514.718734</td>\n",
       "      <td>  327.184316</td>\n",
       "      <td> 420.642883</td>\n",
       "      <td>  12.337769</td>\n",
       "    </tr>\n",
       "    <tr>\n",
       "      <th>474.953660</th>\n",
       "      <td> 1377.421295</td>\n",
       "      <td>  925.062814</td>\n",
       "      <td> 479.675873</td>\n",
       "      <td>  59.032990</td>\n",
       "    </tr>\n",
       "  </tbody>\n",
       "</table>\n",
       "</div>"
      ],
      "text/plain": [
       "                         e_truth        e_dep    time_hit          dt\n",
       "calo_num time_truth                                                  \n",
       "0        115.871234   293.399686   125.575507  118.182472         NaN\n",
       "         122.548781   858.783237   769.521276  126.320602    8.138130\n",
       "         186.342021  1436.879928  1325.108935  190.300842   63.980240\n",
       "         188.854145   791.989991   763.625368  192.108627    1.807785\n",
       "         190.213433   434.357860   414.831847  191.589844   -0.518784\n",
       "         195.316774  1053.989131   274.225989  214.105499   22.515656\n",
       "         208.369221  1119.362785   617.859847  217.130219    3.024719\n",
       "         218.663106   555.463273   536.268886  221.481232    4.351013\n",
       "         250.116720   139.261601     2.107877  298.500061   77.018829\n",
       "         263.774723   267.584581    71.072469  264.932587  -33.567474\n",
       "         367.221200  1502.784934   190.877988  375.791779  110.859192\n",
       "         371.630884   538.717158     0.144824  378.135406    2.343628\n",
       "         402.109499  1250.698656     0.110138  408.305115   30.169708\n",
       "         416.852038  1514.718734   327.184316  420.642883   12.337769\n",
       "         474.953660  1377.421295   925.062814  479.675873   59.032990"
      ]
     },
     "execution_count": 12,
     "metadata": {},
     "output_type": "execute_result"
    }
   ],
   "source": [
    "real_hit = df[df.calo_num==0]\n",
    "real_hit=df.groupby(['calo_num','time_truth']).mean()\n",
    "real_hit[\"dt\"] = real_hit['time_hit'].diff(1)\n",
    "real_hit.head(15)"
   ]
  },
  {
   "cell_type": "code",
   "execution_count": 13,
   "metadata": {
    "collapsed": false
   },
   "outputs": [
    {
     "data": {
      "text/plain": [
       "array([[<matplotlib.axes._subplots.AxesSubplot object at 0x12226ef50>]], dtype=object)"
      ]
     },
     "execution_count": 13,
     "metadata": {},
     "output_type": "execute_result"
    },
    {
     "data": {
      "image/png": "[encoded data removed]",
      "text/plain": [
       "<matplotlib.figure.Figure at 0x1258cd6d0>"
      ]
     },
     "metadata": {},
     "output_type": "display_data"
    }
   ],
   "source": [
    "real_hit.hist('time_hit',bins=100,color='blue')"
   ]
  },
  {
   "cell_type": "code",
   "execution_count": 14,
   "metadata": {
    "collapsed": false
   },
   "outputs": [
    {
     "data": {
      "text/html": [
       "<div style=\"max-height:1000px;max-width:1500px;overflow:auto;\">\n",
       "<table border=\"1\" class=\"dataframe\">\n",
       "  <thead>\n",
       "    <tr style=\"text-align: right;\">\n",
       "      <th></th>\n",
       "      <th></th>\n",
       "      <th>e_truth</th>\n",
       "      <th>e_dep</th>\n",
       "      <th>time_hit</th>\n",
       "      <th>dt</th>\n",
       "    </tr>\n",
       "    <tr>\n",
       "      <th>calo_num</th>\n",
       "      <th>time_truth</th>\n",
       "      <th></th>\n",
       "      <th></th>\n",
       "      <th></th>\n",
       "      <th></th>\n",
       "    </tr>\n",
       "  </thead>\n",
       "  <tbody>\n",
       "    <tr>\n",
       "      <th rowspan=\"10\" valign=\"top\">0</th>\n",
       "      <th>122.548781</th>\n",
       "      <td>  858.783237</td>\n",
       "      <td>  769.521276</td>\n",
       "      <td> 126.320602</td>\n",
       "      <td>   8.138130</td>\n",
       "    </tr>\n",
       "    <tr>\n",
       "      <th>186.342021</th>\n",
       "      <td> 1436.879928</td>\n",
       "      <td> 1325.108935</td>\n",
       "      <td> 190.300842</td>\n",
       "      <td>  63.980240</td>\n",
       "    </tr>\n",
       "    <tr>\n",
       "      <th>195.316774</th>\n",
       "      <td> 1053.989131</td>\n",
       "      <td>  274.225989</td>\n",
       "      <td> 214.105499</td>\n",
       "      <td>  22.515656</td>\n",
       "    </tr>\n",
       "    <tr>\n",
       "      <th>250.116720</th>\n",
       "      <td>  139.261601</td>\n",
       "      <td>    2.107877</td>\n",
       "      <td> 298.500061</td>\n",
       "      <td>  77.018829</td>\n",
       "    </tr>\n",
       "    <tr>\n",
       "      <th>367.221200</th>\n",
       "      <td> 1502.784934</td>\n",
       "      <td>  190.877988</td>\n",
       "      <td> 375.791779</td>\n",
       "      <td> 110.859192</td>\n",
       "    </tr>\n",
       "    <tr>\n",
       "      <th>402.109499</th>\n",
       "      <td> 1250.698656</td>\n",
       "      <td>    0.110138</td>\n",
       "      <td> 408.305115</td>\n",
       "      <td>  30.169708</td>\n",
       "    </tr>\n",
       "    <tr>\n",
       "      <th>416.852038</th>\n",
       "      <td> 1514.718734</td>\n",
       "      <td>  327.184316</td>\n",
       "      <td> 420.642883</td>\n",
       "      <td>  12.337769</td>\n",
       "    </tr>\n",
       "    <tr>\n",
       "      <th>474.953660</th>\n",
       "      <td> 1377.421295</td>\n",
       "      <td>  925.062814</td>\n",
       "      <td> 479.675873</td>\n",
       "      <td>  59.032990</td>\n",
       "    </tr>\n",
       "    <tr>\n",
       "      <th>495.517746</th>\n",
       "      <td> 2361.563529</td>\n",
       "      <td> 2118.554717</td>\n",
       "      <td> 504.449921</td>\n",
       "      <td>  24.774048</td>\n",
       "    </tr>\n",
       "    <tr>\n",
       "      <th>510.784073</th>\n",
       "      <td>  838.020485</td>\n",
       "      <td>  578.118517</td>\n",
       "      <td> 514.901367</td>\n",
       "      <td>  10.959595</td>\n",
       "    </tr>\n",
       "  </tbody>\n",
       "</table>\n",
       "</div>"
      ],
      "text/plain": [
       "                         e_truth        e_dep    time_hit          dt\n",
       "calo_num time_truth                                                  \n",
       "0        122.548781   858.783237   769.521276  126.320602    8.138130\n",
       "         186.342021  1436.879928  1325.108935  190.300842   63.980240\n",
       "         195.316774  1053.989131   274.225989  214.105499   22.515656\n",
       "         250.116720   139.261601     2.107877  298.500061   77.018829\n",
       "         367.221200  1502.784934   190.877988  375.791779  110.859192\n",
       "         402.109499  1250.698656     0.110138  408.305115   30.169708\n",
       "         416.852038  1514.718734   327.184316  420.642883   12.337769\n",
       "         474.953660  1377.421295   925.062814  479.675873   59.032990\n",
       "         495.517746  2361.563529  2118.554717  504.449921   24.774048\n",
       "         510.784073   838.020485   578.118517  514.901367   10.959595"
      ]
     },
     "execution_count": 14,
     "metadata": {},
     "output_type": "execute_result"
    }
   ],
   "source": [
    "pileup_hit = real_hit[real_hit.dt>5 ]\n",
    "pileup_hit.head(10)"
   ]
  },
  {
   "cell_type": "code",
   "execution_count": 15,
   "metadata": {
    "collapsed": false
   },
   "outputs": [
    {
     "data": {
      "text/plain": [
       "array([[<matplotlib.axes._subplots.AxesSubplot object at 0x126c01250>]], dtype=object)"
      ]
     },
     "execution_count": 15,
     "metadata": {},
     "output_type": "execute_result"
    },
    {
     "data": {
      "image/png": "[encoded data removed]",
      "text/plain": [
       "<matplotlib.figure.Figure at 0x126c0af10>"
      ]
     },
     "metadata": {},
     "output_type": "display_data"
    }
   ],
   "source": [
    "pileup_hit.hist('time_hit',bins=100,color='red')"
   ]
  },
  {
   "cell_type": "code",
   "execution_count": 36,
   "metadata": {
    "collapsed": false
   },
   "outputs": [
    {
     "data": {
      "image/png": "[encoded data removed]",
      "text/plain": [
       "<matplotlib.figure.Figure at 0x1284bc0d0>"
      ]
     },
     "metadata": {},
     "output_type": "display_data"
    }
   ],
   "source": [
    "fig = plt.figure()\n",
    "ax = fig.add_subplot(111)\n",
    "ax.set_ylabel('Counts')\n",
    "ax.set_xlabel('Times [ns]')\n",
    "real_hit.hist('time_hit',ax=ax,bins=100,color='blue',alpha=0.5)\n",
    "pileup_hit.hist('time_hit',ax=ax,bins=100,color='red',alpha=0.5)\n",
    "plt.show()"
   ]
  },
  {
   "cell_type": "code",
   "execution_count": null,
   "metadata": {
    "collapsed": true
   },
   "outputs": [],
   "source": []
  }
 ],
 "metadata": {
  "kernelspec": {
   "display_name": "Python 2",
   "language": "python",
   "name": "python2"
  },
  "language_info": {
   "codemirror_mode": {
    "name": "ipython",
    "version": 2
   },
   "file_extension": ".py",
   "mimetype": "text/x-python",
   "name": "python",
   "nbconvert_exporter": "python",
   "pygments_lexer": "ipython2",
   "version": "2.7.13"
  }
 },
 "nbformat": 4,
 "nbformat_minor": 2
}
